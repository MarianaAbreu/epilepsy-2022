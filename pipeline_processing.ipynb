{
 "cells": [
  {
   "attachments": {
    "SI-Notebooks-Hor-Break-Col.svg": {
     "image/svg+xml": [
      "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"
     ]
    }
   },
   "cell_type": "markdown",
   "id": "1e2a027b",
   "metadata": {
    "pycharm": {
     "name": "#%% md\n"
    }
   },
   "source": [
    "![SI-Notebooks-Hor-Break-Col.svg](attachment:SI-Notebooks-Hor-Break-Col.svg)"
   ]
  },
  {
   "cell_type": "markdown",
   "id": "3cf183a2",
   "metadata": {
    "pycharm": {
     "name": "#%% md\n"
    }
   },
   "source": [
    "# <span style=\"color:#484848;\"> HRV Seizure Detection </span>"
   ]
  },
  {
   "cell_type": "markdown",
   "id": "03e0262c",
   "metadata": {
    "pycharm": {
     "name": "#%% md\n"
    }
   },
   "source": [
    "### <span style=\"color:#484848;\"> Signal Processing Pipeline </span>"
   ]
  },
  {
   "cell_type": "markdown",
   "id": "36a4cefd",
   "metadata": {
    "pycharm": {
     "name": "#%% md\n"
    }
   },
   "source": [
    "### <span style=\"color:#00aba1;\"> Keywords </span>\n",
    "`signal processing`, `feature engineering`, `hrv`"
   ]
  },
  {
   "cell_type": "markdown",
   "id": "e09b7dc0",
   "metadata": {
    "pycharm": {
     "name": "#%% md\n"
    }
   },
   "source": [
    "### <span style=\"color:#00aba1;\"> Notebook Info </span>\n",
    "\n",
    "**Author(s):** Mariana Abreu\n",
    "\n",
    "**Date of creation:** 06/10/2022\n",
    "\n",
    "**Last update:** 06/10/2022\n",
    "\n",
    "**Last revision:** 06/10/2022"
   ]
  },
  {
   "cell_type": "markdown",
   "id": "e00a3dd5",
   "metadata": {
    "pycharm": {
     "name": "#%% md\n"
    }
   },
   "source": [
    "![Graphical Abstract](https://ulisboa-my.sharepoint.com/:i:/g/personal/ist12170_tecnico_ulisboa_pt/EU_rBWdG9WlMgDZP9ztOp68BXp_1T2IK7HoGu-Jcijz_ow?e=iqnq5e)\n",
    "<p style=\"text-align:center\"> <i> Caption for the graphical abstract. </i> </p>"
   ]
  },
  {
   "cell_type": "markdown",
   "id": "043fa9be",
   "metadata": {
    "pycharm": {
     "name": "#%% md\n"
    }
   },
   "source": [
    "### <span style=\"color:#00aba1;\"> Description </span>\n",
    "The purpose of this notebook is to follow all the steps from ECG signals until a seizure/ baseline dataset."
   ]
  },
  {
   "cell_type": "markdown",
   "id": "cbb9bfa7",
   "metadata": {
    "pycharm": {
     "name": "#%% md\n"
    }
   },
   "source": [
    "### <span style=\"color:#00aba1;\"> Requirements </span>\n",
    "\n",
    "* Basic knowledge of Python\n",
    "\n",
    "* Access to database (OneDrive)"
   ]
  },
  {
   "cell_type": "markdown",
   "id": "69307772",
   "metadata": {
    "pycharm": {
     "name": "#%% md\n"
    }
   },
   "source": [
    "# <span style=\"color:#00aba1;\"> 1. From ECG to RR-intervals and Heart Rate </span>"
   ]
  },
  {
   "cell_type": "markdown",
   "id": "92b16b2b",
   "metadata": {
    "pycharm": {
     "name": "#%% md\n"
    }
   },
   "source": [
    "## <span style=\"color:#484848;\"> 1.1. Function extract_rri </span>\n",
    "\n",
    "This function will start by getting the ECG files, which are already cleaned and organised by time. These files already contain the R peaks locations identified, as well as a filtered ECG signal. In this case, only the R peaks are necessary.\n",
    "**extract_rri** requires files which were not shared in the data folder. This function has 3 steps:\n",
    "1) Open each ECG file iteratively until all files of the same patient were opened (ECG files are quite long, hence they were saved separately to reduce the opening time)\n",
    "2) From the ECG files, get the R peaks, the respective times, and the file it was retrieved from (file_id).\n",
    "3) Save in a new DataFrame joining together all data from a single patient (this DataFrame is saved in the file \"patient_rri.parquet\")"
   ]
  },
  {
   "cell_type": "code",
   "execution_count": null,
   "outputs": [],
   "source": [
    "from src import extract_rri\n",
    "patient = 'p413'\n",
    "rri_data = extract_rri.extract_rri(patient)"
   ],
   "metadata": {
    "collapsed": false,
    "pycharm": {
     "name": "#%%\n"
    }
   }
  },
  {
   "cell_type": "markdown",
   "id": "1896e5db",
   "metadata": {
    "pycharm": {
     "name": "#%% md\n"
    }
   },
   "source": []
  },
  {
   "cell_type": "markdown",
   "id": "67579b83",
   "metadata": {
    "pycharm": {
     "name": "#%% md\n"
    }
   },
   "source": [
    "## <span style=\"color:#484848;\"> 1.2. Open the RRi file extracted </span>"
   ]
  },
  {
   "cell_type": "code",
   "execution_count": 1,
   "outputs": [
    {
     "data": {
      "text/plain": "         rri                         index fileid\n0  492.18750 2020-09-21 12:26:33.515625559    000\n1  476.56250 2020-09-21 12:26:33.992188576    000\n2  234.37500 2020-09-21 12:26:34.226563830    000\n3  304.68750 2020-09-21 12:26:34.531251661    000\n4  472.65625 2020-09-21 12:26:35.003908424    000",
      "text/html": "<div>\n<style scoped>\n    .dataframe tbody tr th:only-of-type {\n        vertical-align: middle;\n    }\n\n    .dataframe tbody tr th {\n        vertical-align: top;\n    }\n\n    .dataframe thead th {\n        text-align: right;\n    }\n</style>\n<table border=\"1\" class=\"dataframe\">\n  <thead>\n    <tr style=\"text-align: right;\">\n      <th></th>\n      <th>rri</th>\n      <th>index</th>\n      <th>fileid</th>\n    </tr>\n  </thead>\n  <tbody>\n    <tr>\n      <th>0</th>\n      <td>492.18750</td>\n      <td>2020-09-21 12:26:33.515625559</td>\n      <td>000</td>\n    </tr>\n    <tr>\n      <th>1</th>\n      <td>476.56250</td>\n      <td>2020-09-21 12:26:33.992188576</td>\n      <td>000</td>\n    </tr>\n    <tr>\n      <th>2</th>\n      <td>234.37500</td>\n      <td>2020-09-21 12:26:34.226563830</td>\n      <td>000</td>\n    </tr>\n    <tr>\n      <th>3</th>\n      <td>304.68750</td>\n      <td>2020-09-21 12:26:34.531251661</td>\n      <td>000</td>\n    </tr>\n    <tr>\n      <th>4</th>\n      <td>472.65625</td>\n      <td>2020-09-21 12:26:35.003908424</td>\n      <td>000</td>\n    </tr>\n  </tbody>\n</table>\n</div>"
     },
     "execution_count": 1,
     "metadata": {},
     "output_type": "execute_result"
    }
   ],
   "source": [
    "import os\n",
    "import pandas as pd\n",
    "patient = 'p413'\n",
    "save_dir = 'C:\\\\Users\\\\Mariana\\\\OneDrive - Universidade de Lisboa\\\\G5\\\\data'\n",
    "patient_data = pd.read_parquet(os.path.join(save_dir, patient + '_rri.parquet'))\n",
    "patient_data.head()"
   ],
   "metadata": {
    "collapsed": false,
    "pycharm": {
     "name": "#%%\n"
    }
   }
  },
  {
   "cell_type": "markdown",
   "source": [
    "## <span style=\"color:#484848;\"> 1.3. Plot RRi near a seizure </span>\n",
    "\n",
    "1) Get the seizures times for that patient, which were saved in the csv file \"seizure_label_patient\". Select one of these times in the variable **seizure_time**\n",
    "2) Select the data between 2 minutes before and 2 minutes after one seizure onset in **cropped_data**.\n",
    "3) Plot cropped data with a vertical line in the location of the seizure onset\n",
    "\n",
    "To understand the effect of each part of the code (especially in the plot) you could comment line by line or change parameters (such as what is inside clips '')."
   ],
   "metadata": {
    "collapsed": false,
    "pycharm": {
     "name": "#%% md\n"
    }
   }
  },
  {
   "cell_type": "code",
   "execution_count": 2,
   "outputs": [
    {
     "data": {
      "text/plain": "<Figure size 640x480 with 1 Axes>",
      "image/png": "[encoded data removed]"
     },
     "metadata": {},
     "output_type": "display_data"
    }
   ],
   "source": [
    "import datetime\n",
    "import os\n",
    "import matplotlib.pyplot as plt\n",
    "from matplotlib.dates import DateFormatter\n",
    "colors = {'lightblue': '#A9D1ED', 'lightorange': '#F8CBAD',  'darkblue': '#003399', 'onset': '#843C0C', 'teal':'teal', }\n",
    "save_dir = 'C:\\\\Users\\\\Mariana\\\\OneDrive - Universidade de Lisboa\\\\G5\\\\data'\n",
    "# 1)\n",
    "seizures = pd.read_csv(os.path.join(save_dir, 'seizure_label_' + patient), index_col=0)\n",
    "times = pd.to_datetime(seizures['Date'])\n",
    "seizure_time = times.loc[0]\n",
    "# 2)\n",
    "cropped_data = patient_data.loc[patient_data['index'].between(times.iloc[0] - datetime.timedelta(seconds=120), times.iloc[0] + datetime.timedelta(seconds=120))]\n",
    "# 3)\n",
    "fig, ax = plt.subplots()\n",
    "plt.plot(cropped_data['index'], cropped_data['rri'], label='rri', color='lightblue', linewidth='2')\n",
    "plt.vlines(times.iloc[0], 300, 800, color='teal', label='seizure onset')\n",
    "plt.ylabel('RR intervals (ms)')\n",
    "plt.xlabel('Time (min:sec)')\n",
    "ax.xaxis.set_major_formatter(DateFormatter('%M:%S'))\n",
    "plt.savefig('z3_rri_signal')\n",
    "plt.legend()\n",
    "plt.show()"
   ],
   "metadata": {
    "collapsed": false,
    "pycharm": {
     "name": "#%%\n"
    }
   }
  },
  {
   "cell_type": "markdown",
   "id": "72db922c",
   "metadata": {
    "pycharm": {
     "name": "#%% md\n"
    }
   },
   "source": []
  },
  {
   "cell_type": "markdown",
   "id": "323747c1",
   "metadata": {
    "pycharm": {
     "name": "#%% md\n"
    }
   },
   "source": [
    "# <span style=\"color:#00aba1;\"> 2. Extract Features </span>\n",
    "\n",
    "The process of feature extraction could be done in many different ways: for the entire data, for shorter segments of the data, etc.\n",
    "In this case, we start by dividing the data into baseline or seizure. This is useful because baseline can take a great time to run (it contains many samples) and this division allows to have a fast calculation if only seizure intervals are of interest.\n",
    "\n",
    "The size of each segment for which features are extracted is defined as **window** and it is in seconds. The true overlap between consecutive windows is defined by **overlap**, which is also in seconds, however in this case, **overlap** variable corresponds to the jump given between consecutive windows.\n",
    "\n",
    "Hence true overlap = **window - overlap**"
   ]
  },
  {
   "cell_type": "markdown",
   "id": "a17cb18d",
   "metadata": {
    "pycharm": {
     "name": "#%% md\n"
    }
   },
   "source": [
    "## <span style=\"color:#484848;\"> 2.1. Patient Loop </span>\n",
    "\n",
    "A loop is created to repeat the process of feature extraction for all patients desired. This loop contains:\n",
    "\n",
    "1) Get seizures from \"seizure_label_patient\"\n",
    "2) Get RRi signal from \"patient_rri.parquet\"\n",
    "3) Convert RRi dates (which could be defined in string) to real dates (datetime objects)\n",
    "4) Choose window and overlap parameters\n",
    "5) call function **get_features_good_intervals** with **type** = 'baseline' or 'seizure'"
   ]
  },
  {
   "cell_type": "code",
   "execution_count": 3,
   "outputs": [],
   "source": [
    "import os\n",
    "import time\n",
    "import pandas as pd\n",
    "from src.extract_features import get_features_good_intervals"
   ],
   "metadata": {
    "collapsed": false,
    "pycharm": {
     "name": "#%%\n"
    }
   }
  },
  {
   "cell_type": "code",
   "execution_count": null,
   "outputs": [],
   "source": [
    "save_dir = 'C:\\\\Users\\\\Mariana\\\\OneDrive - Universidade de Lisboa\\\\G5\\\\data'\n",
    "\n",
    "for patient_num in ['358']:\n",
    "    print('Processing features for patient ', patient_num)\n",
    "    time_start = time.time()\n",
    "\n",
    "    patient = 'p' + patient_num\n",
    "    old_patient = 'PAT_' + patient[1:]\n",
    "    seizures = pd.read_csv(os.path.join(save_dir, 'seizure_label_'+patient), index_col=0)\n",
    "\n",
    "    # get seizure times\n",
    "    seizure_dates = pd.to_datetime(seizures['Date'], dayfirst=True)\n",
    "\n",
    "    # get rr intervals\n",
    "    rri_signal = pd.read_parquet(os.path.join(save_dir, patient+'_rri.parquet'))\n",
    "    # pass string of times to datetime\n",
    "    rri_signal['dates'] = pd.to_datetime(rri_signal['index'])\n",
    "\n",
    "    # window in seconds\n",
    "    window = 300\n",
    "    overlap = 30\n",
    "\n",
    "    get_features_good_intervals(rri_signal, type='seizures', patient=patient, seizure_dates=seizure_dates, overlap=overlap, window=window, save_dir = save_dir)\n",
    "\n",
    "    print(f'Time to process ... {time.time()-time_start}')"
   ],
   "metadata": {
    "collapsed": false,
    "pycharm": {
     "name": "#%%\n"
    }
   }
  },
  {
   "cell_type": "markdown",
   "source": [],
   "metadata": {
    "collapsed": false,
    "pycharm": {
     "name": "#%% md\n"
    }
   }
  },
  {
   "cell_type": "markdown",
   "source": [
    "## <span style=\"color:#484848;\"> 2.2. Functions in Feature Extraction </span>\n",
    "\n",
    "The script extract features is divided in 4 functions: *get_features_good_intervals*, *get_all_feats*, *get_seizures_df*, *get_baselines_df*\n",
    "\n",
    "*get_seizures_df* is an auxiliary function to retrieve all rri_signals that respect the seizure boundaries: 1 hour prior the onset and 5 minutes after the onset\n",
    "*get_baseline_df* is an auxiliary function to retrieve all rri_signals outside the seizure boundaries: everything but 2 hours prior to the onset and 1 hour after the onset\n",
    "\n",
    "*get_features_good_intervals* is responsible to:\n",
    " 1) call *get_seizures_df* or *get_baseline_df* according to **type**\n",
    " 2) loop iteratively over all rri_signals using time spaced with the defined **overlap**.\n",
    " 3) Inside the loop: crop the segment from rri_signal using the **time** of each loop as the initial time, and the **window** size to get the final time\n",
    " 4) If the cropped segment has less than 70% of the size defined in **window**, it is rejected and the loop jumps to the next **time**\n",
    " 5) If the cropped segment is accepted, the function *get_all_feats* is called to extract features from it.\n",
    " 6) The features are saved in a new DataFrame **feats_df**"
   ],
   "metadata": {
    "collapsed": false,
    "pycharm": {
     "name": "#%% md\n"
    }
   }
  },
  {
   "cell_type": "markdown",
   "source": [
    "## <span style=\"color:#484848;\"> 2.2. Features Extracted </span>\n",
    "\n",
    "The features extracted correspond to features from temporal, frequency and nonlinear domain of the HRV.\n",
    "The file \"features_patient_seizure.parquet\" contains the table with all features extracted for one patient, only from seizure segments.\n",
    "\n",
    "In the next cell, we can open one feature file and see its details"
   ],
   "metadata": {
    "collapsed": false,
    "pycharm": {
     "name": "#%% md\n"
    }
   }
  },
  {
   "cell_type": "code",
   "execution_count": null,
   "outputs": [],
   "source": [
    "import os\n",
    "import pandas as pd\n",
    "dir = 'C:\\\\Users\\\\Mariana\\\\OneDrive - Universidade de Lisboa\\\\G5\\\\data'\n",
    "patient = 'p413'\n",
    "features_data = pd.read_parquet(os.path.join(dir, 'features_' + patient + '_seizure.parquet'))\n",
    "\n",
    "features_data.head()"
   ],
   "metadata": {
    "collapsed": false,
    "pycharm": {
     "name": "#%%\n"
    }
   }
  },
  {
   "cell_type": "markdown",
   "source": [
    "One seizure will have multiple segments, from 1 hour until 5 minutes after the seizure. to check a feature near a seizure onset, let's repeat the procedure done for the rri signal plot:\n",
    "1) Get seizure onset time\n",
    "2) Crop feature data around seizure onset and choose feature\n",
    "3) Plot the selected feature\n",
    "\n",
    "> 💡 **EXPLORE:** Change the values inside timedelta and see the visual effect it takes on temporal evolution"
   ],
   "metadata": {
    "collapsed": false,
    "pycharm": {
     "name": "#%% md\n"
    }
   }
  },
  {
   "cell_type": "code",
   "execution_count": null,
   "outputs": [],
   "source": [
    "import datetime\n",
    "import matplotlib.pyplot as plt\n",
    "from matplotlib.dates import DateFormatter\n",
    "\n",
    "save_dir = 'C:\\\\Users\\\\Mariana\\\\OneDrive - Universidade de Lisboa\\\\G5\\\\data'\n",
    "# 1)\n",
    "seizures = pd.read_csv(os.path.join(save_dir, 'seizure_label_' + patient), index_col=0)\n",
    "times = pd.to_datetime(seizures['Date'])\n",
    "seizure_time = times.loc[0]\n",
    "# 2)\n",
    "feature = 'nn50'\n",
    "cropped_data = features_data.loc[features_data['t0'].between(times.iloc[0] - datetime.timedelta(hours=1), times.iloc[0] + datetime.timedelta(seconds=120))]\n",
    "# 3)\n",
    "plt.plot(cropped_data['t0'], cropped_data[feature], label=feature, color='lightblue', linewidth=2)\n",
    "plt.vlines(times.iloc[0], cropped_data[feature].min(), cropped_data[feature].max(), color='teal', label='seizure onset')\n",
    "plt.ylabel(feature)\n",
    "plt.xlabel('Time (min:sec)')\n",
    "plt.savefig('C:\\\\Users\\\\Mariana\\\\Documents\\\\')\n",
    "#ax[0].xaxis.set_major_formatter(DateFormatter('%M:%S'))\n",
    "plt.legend()\n",
    "plt.show()"
   ],
   "metadata": {
    "collapsed": false,
    "pycharm": {
     "name": "#%%\n"
    }
   }
  },
  {
   "cell_type": "markdown",
   "source": [
    "# <span style=\"color:#00aba1;\"> 3. Clean Features </span>\n",
    "\n",
    "Features can present very different amplitudes and sharp edges. Besides, some intervals could be missing. In order to have a smoother, more comparable feature time serie, it suffers a standarisation, interpolation and smoothing."
   ],
   "metadata": {
    "collapsed": false,
    "pycharm": {
     "name": "#%% md\n"
    }
   }
  },
  {
   "cell_type": "code",
   "execution_count": null,
   "outputs": [],
   "source": [
    "from src import clean_features\n",
    "import pandas as pd\n",
    "import os\n",
    "save_dir = 'C:\\\\Users\\\\Mariana\\\\OneDrive - Universidade de Lisboa\\\\G5\\\\data'\n",
    "\n",
    "patient ='p358'\n",
    "type='seizure'\n",
    "\n",
    "for patient in ['p312','p413','p326', 'p400', 'p358', 'p365', 'p391', 'p386']:\n",
    "    for type in ['seizure', 'baseline']:\n",
    "        clean_features.clean_features(patient, save_dir, type)\n",
    "\n",
    "clean_data = pd.read_parquet(os.path.join(save_dir, 'clean_features_' + patient + '_'+ type +'.parquet'))\n",
    "clean_data.head()"
   ],
   "metadata": {
    "collapsed": false,
    "pycharm": {
     "name": "#%%\n"
    }
   }
  },
  {
   "cell_type": "markdown",
   "source": [
    "> 💡 **EXPLORE:** Change feature (using the names of the columns of clean_data)"
   ],
   "metadata": {
    "collapsed": false,
    "pycharm": {
     "name": "#%% md\n"
    }
   }
  },
  {
   "cell_type": "code",
   "execution_count": null,
   "outputs": [],
   "source": [
    "import datetime\n",
    "import matplotlib.pyplot as plt\n",
    "from matplotlib.dates import DateFormatter\n",
    "\n",
    "save_dir = 'C:\\\\Users\\\\Mariana\\\\OneDrive - Universidade de Lisboa\\\\G5\\\\data'\n",
    "# 1)\n",
    "patient ='p413'\n",
    "\n",
    "clean_data = pd.read_parquet(os.path.join(save_dir, 'clean_features_' + patient + '_'+ type +'.parquet'))\n",
    "\n",
    "seizures = pd.read_csv(os.path.join(save_dir, 'seizure_label_' + patient), index_col=0)\n",
    "times = pd.to_datetime(seizures['Date'])\n",
    "seizure_time = times.loc[0]\n",
    "# 2)\n",
    "feature = 'sd1'\n",
    "cropped_data = clean_data.loc[clean_data['t0'].between(times.iloc[0] - datetime.timedelta(minutes=60), times.iloc[0] + datetime.timedelta(seconds=300))]\n",
    "# 3)\n",
    "fig, ax = plt.subplots()\n",
    "plt.plot(cropped_data['t0'], cropped_data[feature], label='rri')\n",
    "plt.vlines(times.iloc[0], cropped_data[feature].min(), cropped_data[feature].max(), color='red', label='seizure onset')\n",
    "plt.ylabel(feature)\n",
    "plt.xlabel('Time (min:sec)')\n",
    "ax.xaxis.set_major_formatter(DateFormatter('%M:%S'))\n",
    "plt.legend()\n",
    "plt.show()"
   ],
   "metadata": {
    "collapsed": false,
    "pycharm": {
     "name": "#%%\n"
    }
   }
  }
 ],
 "metadata": {
  "kernelspec": {
   "display_name": "Python 3 (ipykernel)",
   "language": "python",
   "name": "python3"
  },
  "language_info": {
   "codemirror_mode": {
    "name": "ipython",
    "version": 3
   },
   "file_extension": ".py",
   "mimetype": "text/x-python",
   "name": "python",
   "nbconvert_exporter": "python",
   "pygments_lexer": "ipython3",
   "version": "3.9.7"
  }
 },
 "nbformat": 4,
 "nbformat_minor": 5
}