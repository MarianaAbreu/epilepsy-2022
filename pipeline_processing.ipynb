{
 "cells": [
  {
   "attachments": {
    "SI-Notebooks-Hor-Break-Col.svg": {
     "image/svg+xml": [
      "PHN2ZyB4bWxucz0iaHR0cDovL3d3dy53My5vcmcvMjAwMC9zdmciIHhtbG5zOnhsaW5rPSJodHRwOi8vd3d3LnczLm9yZy8xOTk5L3hsaW5rIiB3aWR0aD0iMzUwIiBoZWlnaHQ9IjE1MC42OSIgdmlld0JveD0iMCAwIDM1MCAxNTAuNjkiPgogIDxkZWZzPgogICAgPGNsaXBQYXRoIGlkPSJjbGlwLXBhdGgiPgogICAgICA8cGF0aCBkPSJNMjQ2LjE4LDExLjc1djI1aC01di0yNVptOTAuMDYsMHY1aC0xMHYyMGgtNXYtMjBoLTEwdi01Wm0tMzAsMHYyNWgtNXYtMjBoLTE1djIwaC01di0yNVptLTMwLDB2NUgyNTYuMTV2NWgxMHY1aC0xMHY1SDI3Ni4ydjVIMjUxLjE0di0yNVptLTQwLDB2NWgtMjB2MTVoMjB2NUgyMTEuMTR2LTI1Wm0tMzAsMHY1SDE4Ni4xM3Y1aDIwLjA1djE1SDE4MS4xMnYtNWgyMHYtNWgtMjB2LTE1Wk0zMzYuMjYsNTAuMjd2OC4xOEgzMTkuOVY5MS4xN2gtOC4xOFY1OC40NUgyOTUuMzZWNTAuMjdabS00OSwwdjguMThIMjU0LjU0djguMThoMzIuNzJWOTEuMTdoLTQwLjlWODNoMzIuNzJWNzQuODFIMjQ2LjM2VjUwLjI3Wm0tNDksMHY4LjE4SDIwNS41NHY4LjE4aDMyLjcyVjkxLjE3SDE5Ny4zN1Y4M2gzMi43MVY3NC44MUgxOTcuMzdWNTAuMjdabS00OSwwdjQwLjloLTguMTdWNTAuMjdaIiBmaWxsPSIjMDBhYmExIiBjbGlwLXJ1bGU9ImV2ZW5vZGQiLz4KICAgIDwvY2xpcFBhdGg+CiAgPC9kZWZzPgogIDxnIGlkPSJMYXllcl8yIiBkYXRhLW5hbWU9IkxheWVyIDIiPgogICAgPGcgaWQ9IkxheWVyXzEtMiIgZGF0YS1uYW1lPSJMYXllciAxIj4KICAgICAgPGc+CiAgICAgICAgPGc+CiAgICAgICAgICA8cGF0aCBkPSJNMTgxLjA5LDEwNy4wNWgxNi4ydjE1Ljg5aC0zLjI0VjExMC4yM2gtOS43MnYxMi43MWgtMy4yNFoiIGZpbGw9IiM0ODQ4NDgiLz4KICAgICAgICAgIDxwYXRoIGQ9Ik0yMDAuNTEsMTA3LjA1aDE2LjJ2MTUuODloLTE2LjJabTEzLDEyLjcxdi05LjUzaC05LjcydjkuNTNaIiBmaWxsPSIjNDg0ODQ4Ii8+CiAgICAgICAgICA8cGF0aCBkPSJNMjE5LjkzLDEwNy4wNWgxNi4ydjMuMThoLTYuNDh2MTIuNzFoLTMuMjRWMTEwLjIzaC02LjQ4WiIgZmlsbD0iIzQ4NDg0OCIvPgogICAgICAgICAgPHBhdGggZD0iTTIzOS4zNSwxMDcuMDVoMTYuMnYzLjE4aC0xM3YzLjE4aDYuNDh2My4xN2gtNi40OHYzLjE4aDEzdjMuMThoLTE2LjJaIiBmaWxsPSIjNDg0ODQ4Ii8+CiAgICAgICAgICA8cGF0aCBkPSJNMjU4Ljc3LDEwNy4wNUgyNzV2MTUuODloLTE2LjJabTEzLDYuMzZ2LTMuMThIMjYydjMuMThabTAsNi4zNXYtMy4xOEgyNjJ2My4xOFoiIGZpbGw9IiM0ODQ4NDgiLz4KICAgICAgICAgIDxwYXRoIGQ9Ik0yNzguMTksMTA3LjA1aDE2LjJ2MTUuODloLTE2LjJabTEzLDEyLjcxdi05LjUzaC05LjcydjkuNTNaIiBmaWxsPSIjNDg0ODQ4Ii8+CiAgICAgICAgICA8cGF0aCBkPSJNMjk3LjYxLDEwNy4wNWgxNi4ydjE1Ljg5aC0xNi4yWm0xMywxMi43MXYtOS41M2gtOS43MnY5LjUzWiIgZmlsbD0iIzQ4NDg0OCIvPgogICAgICAgICAgPHBhdGggZD0iTTMxNywxMDcuMDVoMy4yNHY2LjM2aDIuMjhsNi40OS02LjM2LDIuMSwyLjA5LTYsNS44Nyw2LjA1LDUuODFMMzI5LDEyMi45NGwtNi40OS02LjM2aC0yLjI4djYuMzZIMzE3WiIgZmlsbD0iIzQ4NDg0OCIvPgogICAgICAgICAgPHBhdGggZD0iTTMzMy43OSwxMTkuNzZoMTN2LTMuMThoLTEzdi05LjUzSDM1MHYzLjE4SDMzN3YzLjE4aDEzdjkuNTNIMzMzLjc5WiIgZmlsbD0iIzQ4NDg0OCIvPgogICAgICAgIDwvZz4KICAgICAgICA8cGF0aCBkPSJNMTM0LjEsMEgzMy4xOEMyMS40MSwwLDE3LjYzLDcuNTYsMTYuNjMsMTUuNjlWMTQuMTRIMS4zOUMuMzgsMTQuMjQsMCwxNC43NCwwLDE2LC4wOCwxOS4zMy4wNywyMi42OCwwLDI2YzAsMS4xLjM0LDEuNTksMS4xNywxLjcyLjEyLDAsMTEuMTEsMCwxNS4xNCwwVjQxLjMyYy00LDAtMTQuOTMsMC0xNS4wNiwwQy4zNCw0MS40OCwwLDQyLDAsNDMuMThjLjA4LDMuMzQuMDcsNi42OSwwLDEwQzAsNTQuMzkuMzksNTQuODYsMS4zMSw1NWMuMTQsMCwxMi41MSwwLDE1LDAsMCw0LjU4LDAsOS4xNiwwLDEzLjc0LTIuNzYsMC0xMS41OCwwLTEzLjgzLDBIMS41NUMuNDIsNjguNzUsMCw2OS4yMywwLDcwLjU0Yy4wOCwzLjM1LjA3LDYuNywwLDEwLDAsMS4wOS4zMywxLjU4LDEuMTMsMS43MmEzLDMsMCwwLDAsLjcsMGMyLjQ2LDAsMTEuNTMsMCwxNC40NywwVjk2LjRjLTQsMC0xNC44LDAtMTQuOTEsMEMuMzgsOTYuNSwwLDk3LDAsOTguMjVjLjA4LDMuMzQuMDcsNi42OSwwLDEwLDAsMS4xLjM0LDEuNTksMS4xNywxLjczLjEyLDAsMTEuMDksMCwxNS4xMywwdjEzLjU0bC0xNSwwYy0uOTEuMTQtMS4yOC42NS0xLjI1LDEuODMuMDgsMy4zNS4wNyw2LjcsMCwxMCwwLDEuMTcuMzksMS42NSwxLjMxLDEuNzVIMTguMTZhMjAuMzEsMjAuMzEsMCwwLDAsMTIuMTcsMTIuMWM0LjEyLDEuNTksOC41MiwxLjE5LDEyLjc3LDEuMjEsMzAuNjIuMTQsNDguNjkuMTEsNzkuMzEuMTRWMTM5LjNjLTE0LjUzLDAtMTYuNTMsMC0zMS4wNywwdi0uMDZIMzguNzJhMTEuNzIsMTEuNzIsMCwwLDEtNy4wNy0yLjA2YzQuNDMsMCw5LjI2LDAsOS4zNCwwLC45MS0uMTMsMS4yOC0uNjQsMS4yNS0xLjgycS0uMS01LDAtMTBjMC0xLjE3LS4zOC0xLjY1LTEuMzEtMS43NS0uMTEsMC04LjkxLDAtMTMuMTgsMHEwLTYuODYsMC0xMy43M0g0MC42OWMxLjEzLS4wNiwxLjU4LS41NSwxLjU1LTEuODZxLS4xLTUsMC0xMGMwLTEuMDktLjMzLTEuNTctMS4xMi0xLjcyYTQuOSw0LjksMCwwLDAtLjcsMGMtMi4wNywwLTguNzksMC0xMi42NCwwVjkxLjRxMC00LjY1LDAtOS4zaDEzLjFjMS0uMDksMS40Mi0uNTksMS4zOS0xLjg0cS0uMS01LDAtMTBjMC0xLjExLS4zNC0xLjU5LTEuMTYtMS43My0uMTEsMC04LjY2LDAtMTMuNDUsMC0uMDUtMy42NC0uMDgtOC40LS4wOS0xMy41NCw0Ljc3LDAsMTMuMzQsMCwxMy40NSwwLC45MS0uMTMsMS4yOC0uNjQsMS4yNS0xLjgycS0uMS01LDAtMTAuMDVjMC0xLjE3LS4zOC0xLjY0LTEuMzEtMS43NC0uMTEsMC05LjE4LDAtMTMuMzcsMCwwLTUuMDguMDctOS44OC4xMy0xMy43M2gxM2MxLjEzLS4wNiwxLjU4LS41NSwxLjU1LTEuODZxLS4xLTUsMC0xMGMwLTEuMDktLjMzLTEuNTctMS4xMi0xLjcyYTMuNzgsMy43OCwwLDAsMC0uNywwYy0xLjY0LDAtNi4xOSwwLTkuOTMsMGE5LjEsOS4xLDAsMCwxLDctMi44M2M4LjIxLDAsMTYuNDItLjE4LDI0LjYzLjE4LDgsLjM0LDE2LC4xMiwyNC4wNi4xMiwxNi4yNiwwLDIwLDAsMzYuMjUsMGg3LjM1YzcsMCwxMS4yNiw0LjEyLDExLjMyLDExLjI1czAsMTQuMzQsMCwyMS41MmwwLDQ3LjI1aDExLjM1VjIwLjM1QzE1MS43OSwxNywxNTQuMjksMSwxMzQuMSwwWiIgZmlsbD0iIzAwYWJhMSIvPgogICAgICAgIDxnPgogICAgICAgICAgPHBhdGggZD0iTTI0Ni4xOCwxMS43NXYyNWgtNXYtMjVabTkwLjA2LDB2NWgtMTB2MjBoLTV2LTIwaC0xMHYtNVptLTMwLDB2MjVoLTV2LTIwaC0xNXYyMGgtNXYtMjVabS0zMCwwdjVIMjU2LjE1djVoMTB2NWgtMTB2NUgyNzYuMnY1SDI1MS4xNHYtMjVabS00MCwwdjVoLTIwdjE1aDIwdjVIMjExLjE0di0yNVptLTMwLDB2NUgxODYuMTN2NWgyMC4wNXYxNUgxODEuMTJ2LTVoMjB2LTVoLTIwdi0xNVpNMzM2LjI2LDUwLjI3djguMThIMzE5LjlWOTEuMTdoLTguMThWNTguNDVIMjk1LjM2VjUwLjI3Wm0tNDksMHY4LjE4SDI1NC41NHY4LjE4aDMyLjcyVjkxLjE3aC00MC45VjgzaDMyLjcyVjc0LjgxSDI0Ni4zNlY1MC4yN1ptLTQ5LDB2OC4xOEgyMDUuNTR2OC4xOGgzMi43MlY5MS4xN0gxOTcuMzdWODNoMzIuNzFWNzQuODFIMTk3LjM3VjUwLjI3Wm0tNDksMHY0MC45aC04LjE3VjUwLjI3WiIgZmlsbD0iIzAwYWJhMSIgZmlsbC1ydWxlPSJldmVub2RkIi8+CiAgICAgICAgICA8ZyBjbGlwLXBhdGg9InVybCgjY2xpcC1wYXRoKSI+CiAgICAgICAgICAgIDxyZWN0IHg9IjE3OS4xIiB5PSI5Ljc2IiB3aWR0aD0iMTU5LjE0IiBoZWlnaHQ9IjgzLjM5IiBmaWxsPSIjMDBhYmExIi8+CiAgICAgICAgICA8L2c+CiAgICAgICAgPC9nPgogICAgICA8L2c+CiAgICA8L2c+CiAgPC9nPgo8L3N2Zz4K"
     ]
    }
   },
   "cell_type": "markdown",
   "id": "1e2a027b",
   "metadata": {
    "pycharm": {
     "name": "#%% md\n"
    }
   },
   "source": [
    "![SI-Notebooks-Hor-Break-Col.svg](attachment:SI-Notebooks-Hor-Break-Col.svg)"
   ]
  },
  {
   "cell_type": "markdown",
   "id": "3cf183a2",
   "metadata": {
    "pycharm": {
     "name": "#%% md\n"
    }
   },
   "source": [
    "# <span style=\"color:#484848;\"> HRV Seizure Detection </span>"
   ]
  },
  {
   "cell_type": "markdown",
   "id": "03e0262c",
   "metadata": {
    "pycharm": {
     "name": "#%% md\n"
    }
   },
   "source": [
    "### <span style=\"color:#484848;\"> Signal Processing Pipeline </span>"
   ]
  },
  {
   "cell_type": "markdown",
   "id": "36a4cefd",
   "metadata": {
    "pycharm": {
     "name": "#%% md\n"
    }
   },
   "source": [
    "### <span style=\"color:#00aba1;\"> Keywords </span>\n",
    "`signal processing`, `feature engineering`, `hrv`"
   ]
  },
  {
   "cell_type": "markdown",
   "id": "e09b7dc0",
   "metadata": {
    "pycharm": {
     "name": "#%% md\n"
    }
   },
   "source": [
    "### <span style=\"color:#00aba1;\"> Notebook Info </span>\n",
    "\n",
    "**Author(s):** Mariana Abreu\n",
    "\n",
    "**Date of creation:** 06/10/2022\n",
    "\n",
    "**Last update:** 06/10/2022\n",
    "\n",
    "**Last revision:** 06/10/2022"
   ]
  },
  {
   "cell_type": "markdown",
   "id": "e00a3dd5",
   "metadata": {
    "pycharm": {
     "name": "#%% md\n"
    }
   },
   "source": [
    "![Graphical Abstract](https://raw.githubusercontent.com/scientisst/notebooks/master/_Resources/Images/C.Signal_Processing_IMG/C001/LCD.png)\n",
    "<p style=\"text-align:center\"> <i> Caption for the graphical abstract. </i> </p>"
   ]
  },
  {
   "cell_type": "markdown",
   "id": "043fa9be",
   "metadata": {
    "pycharm": {
     "name": "#%% md\n"
    }
   },
   "source": [
    "### <span style=\"color:#00aba1;\"> Description </span>\n",
    "The purpose of this notebook is to follow all the steps from ECG signals until a seizure/ baseline dataset."
   ]
  },
  {
   "cell_type": "markdown",
   "id": "cbb9bfa7",
   "metadata": {
    "pycharm": {
     "name": "#%% md\n"
    }
   },
   "source": [
    "### <span style=\"color:#00aba1;\"> Requirements </span>\n",
    "\n",
    "* Basic knowledge of Python\n",
    "\n",
    "* Access to database (OneDrive)"
   ]
  },
  {
   "cell_type": "markdown",
   "id": "69307772",
   "metadata": {
    "pycharm": {
     "name": "#%% md\n"
    }
   },
   "source": [
    "# <span style=\"color:#00aba1;\"> 1. From ECG to RR-intervals and Heart Rate </span>"
   ]
  },
  {
   "cell_type": "markdown",
   "id": "92b16b2b",
   "metadata": {
    "pycharm": {
     "name": "#%% md\n"
    }
   },
   "source": [
    "## <span style=\"color:#484848;\"> 1.1. Function extract_rri </span>\n",
    "\n",
    "This function will start by getting the ECG files, which are already cleaned and organised by time. These files already contain the R peaks locations identified, as well as a filtered ECG signal. In this case, only the R peaks are necessary.\n",
    "**extract_rri** requires files which were not shared in the data folder. This function has 3 steps:\n",
    "1) Open each ECG file iteratively until all files of the same patient were opened (ECG files are quite long, hence they were saved separately to reduce the opening time)\n",
    "2) From the ECG files, get the R peaks, the respective times, and the file it was retrieved from (file_id).\n",
    "3) Save in a new DataFrame joining together all data from a single patient (this DataFrame is saved in the file \"patient_rri.parquet\")"
   ]
  },
  {
   "cell_type": "code",
   "execution_count": 21,
   "outputs": [
    {
     "ename": "AttributeError",
     "evalue": "module 'src' has no attribute 'extract_rri'",
     "output_type": "error",
     "traceback": [
      "\u001B[1;31m---------------------------------------------------------------------------\u001B[0m",
      "\u001B[1;31mAttributeError\u001B[0m                            Traceback (most recent call last)",
      "Cell \u001B[1;32mIn [21], line 3\u001B[0m\n\u001B[0;32m      1\u001B[0m \u001B[38;5;28;01mimport\u001B[39;00m \u001B[38;5;21;01msrc\u001B[39;00m\n\u001B[0;32m      2\u001B[0m patient \u001B[38;5;241m=\u001B[39m \u001B[38;5;124m'\u001B[39m\u001B[38;5;124mp413\u001B[39m\u001B[38;5;124m'\u001B[39m\n\u001B[1;32m----> 3\u001B[0m rri_data \u001B[38;5;241m=\u001B[39m \u001B[43msrc\u001B[49m\u001B[38;5;241;43m.\u001B[39;49m\u001B[43mextract_rri\u001B[49m(patient)\n",
      "\u001B[1;31mAttributeError\u001B[0m: module 'src' has no attribute 'extract_rri'"
     ]
    }
   ],
   "source": [
    "from src import extract_rri\n",
    "patient = 'p413'\n",
    "rri_data = extract_rri.extract_rri(patient)"
   ],
   "metadata": {
    "collapsed": false,
    "pycharm": {
     "name": "#%%\n"
    }
   }
  },
  {
   "cell_type": "markdown",
   "id": "1896e5db",
   "metadata": {
    "pycharm": {
     "name": "#%% md\n"
    }
   },
   "source": []
  },
  {
   "cell_type": "markdown",
   "id": "67579b83",
   "metadata": {
    "pycharm": {
     "name": "#%% md\n"
    }
   },
   "source": [
    "## <span style=\"color:#484848;\"> 1.2. Open the RRi file extracted </span>"
   ]
  },
  {
   "cell_type": "code",
   "execution_count": 38,
   "outputs": [
    {
     "data": {
      "text/plain": "         rri                         index fileid\n0  492.18750 2020-09-21 12:26:33.515625559    000\n1  476.56250 2020-09-21 12:26:33.992188576    000\n2  234.37500 2020-09-21 12:26:34.226563830    000\n3  304.68750 2020-09-21 12:26:34.531251661    000\n4  472.65625 2020-09-21 12:26:35.003908424    000",
      "text/html": "<div>\n<style scoped>\n    .dataframe tbody tr th:only-of-type {\n        vertical-align: middle;\n    }\n\n    .dataframe tbody tr th {\n        vertical-align: top;\n    }\n\n    .dataframe thead th {\n        text-align: right;\n    }\n</style>\n<table border=\"1\" class=\"dataframe\">\n  <thead>\n    <tr style=\"text-align: right;\">\n      <th></th>\n      <th>rri</th>\n      <th>index</th>\n      <th>fileid</th>\n    </tr>\n  </thead>\n  <tbody>\n    <tr>\n      <th>0</th>\n      <td>492.18750</td>\n      <td>2020-09-21 12:26:33.515625559</td>\n      <td>000</td>\n    </tr>\n    <tr>\n      <th>1</th>\n      <td>476.56250</td>\n      <td>2020-09-21 12:26:33.992188576</td>\n      <td>000</td>\n    </tr>\n    <tr>\n      <th>2</th>\n      <td>234.37500</td>\n      <td>2020-09-21 12:26:34.226563830</td>\n      <td>000</td>\n    </tr>\n    <tr>\n      <th>3</th>\n      <td>304.68750</td>\n      <td>2020-09-21 12:26:34.531251661</td>\n      <td>000</td>\n    </tr>\n    <tr>\n      <th>4</th>\n      <td>472.65625</td>\n      <td>2020-09-21 12:26:35.003908424</td>\n      <td>000</td>\n    </tr>\n  </tbody>\n</table>\n</div>"
     },
     "execution_count": 38,
     "metadata": {},
     "output_type": "execute_result"
    }
   ],
   "source": [
    "import os\n",
    "import pandas as pd\n",
    "patient = 'p413'\n",
    "save_dir = 'C:\\\\Users\\\\Mariana\\\\PycharmProjects\\\\epilepsy-2022\\\\data'\n",
    "patient_data = pd.read_parquet(os.path.join(save_dir, patient + '_rri.parquet'))\n",
    "patient_data.head()"
   ],
   "metadata": {
    "collapsed": false,
    "pycharm": {
     "name": "#%%\n"
    }
   }
  },
  {
   "cell_type": "markdown",
   "source": [
    "## <span style=\"color:#484848;\"> 1.3. Plot RRi near a seizure </span>\n",
    "\n",
    "1) Get the seizures times for that patient, which were saved in the csv file \"seizure_label_patient\". Select one of these times in the variable **seizure_time**\n",
    "2) Select the data between 2 minutes before and 2 minutes after one seizure onset in **cropped_data**.\n",
    "3) Plot cropped data with a vertical line in the location of the seizure onset\n",
    "\n",
    "To understand the effect of each part of the code (especially in the plot) you could comment line by line or change parameters (such as what is inside clips '')."
   ],
   "metadata": {
    "collapsed": false,
    "pycharm": {
     "name": "#%% md\n"
    }
   }
  },
  {
   "cell_type": "code",
   "execution_count": 44,
   "outputs": [
    {
     "data": {
      "text/plain": "<Figure size 640x480 with 1 Axes>",
      "image/png": "[encoded data removed]"
     },
     "metadata": {},
     "output_type": "display_data"
    }
   ],
   "source": [
    "import datetime\n",
    "import os\n",
    "import matplotlib.pyplot as plt\n",
    "from matplotlib.dates import DateFormatter\n",
    "colors = {'lightblue': '#A9D1ED', 'lightorange': '#F8CBAD',  'darkblue': '#003399', 'onset': '#843C0C', 'teal':'teal', }\n",
    "save_dir = 'C:\\\\Users\\\\Mariana\\\\PycharmProjects\\\\epilepsy-2022\\\\data'\n",
    "# 1)\n",
    "seizures = pd.read_csv(os.path.join(save_dir, 'seizure_label_' + patient), index_col=0)\n",
    "times = pd.to_datetime(seizures['Date'])\n",
    "seizure_time = times.loc[0]\n",
    "# 2)\n",
    "cropped_data = patient_data.loc[patient_data['index'].between(times.iloc[0] - datetime.timedelta(seconds=120), times.iloc[0] + datetime.timedelta(seconds=120))]\n",
    "# 3)\n",
    "fig, ax = plt.subplots()\n",
    "plt.plot(cropped_data['index'], cropped_data['rri'], label='rri', color='lightblue', linewidth='2')\n",
    "plt.vlines(times.iloc[0], 300, 800, color='teal', label='seizure onset')\n",
    "plt.ylabel('RR intervals (ms)')\n",
    "plt.xlabel('Time (min:sec)')\n",
    "ax.xaxis.set_major_formatter(DateFormatter('%M:%S'))\n",
    "plt.savefig('C:\\\\Users\\\\Mariana\\\\Documents\\\\CAT\\\\images\\\\z3_rri_signal')\n",
    "plt.legend()\n",
    "plt.show()"
   ],
   "metadata": {
    "collapsed": false,
    "pycharm": {
     "name": "#%%\n"
    }
   }
  },
  {
   "cell_type": "markdown",
   "id": "72db922c",
   "metadata": {
    "pycharm": {
     "name": "#%% md\n"
    }
   },
   "source": []
  },
  {
   "cell_type": "markdown",
   "id": "323747c1",
   "metadata": {
    "pycharm": {
     "name": "#%% md\n"
    }
   },
   "source": [
    "# <span style=\"color:#00aba1;\"> 2. Extract Features </span>\n",
    "\n",
    "The process of feature extraction could be done in many different ways: for the entire data, for shorter segments of the data, etc.\n",
    "In this case, we start by dividing the data into baseline or seizure. This is useful because baseline can take a great time to run (it contains many samples) and this division allows to have a fast calculation if only seizure intervals are of interest.\n",
    "\n",
    "The size of each segment for which features are extracted is defined as **window** and it is in seconds. The true overlap between consecutive windows is defined by **overlap**, which is also in seconds, however in this case, **overlap** variable corresponds to the jump given between consecutive windows.\n",
    "\n",
    "Hence true overlap = **window - overlap**"
   ]
  },
  {
   "cell_type": "markdown",
   "id": "a17cb18d",
   "metadata": {
    "pycharm": {
     "name": "#%% md\n"
    }
   },
   "source": [
    "## <span style=\"color:#484848;\"> 2.1. Patient Loop </span>\n",
    "\n",
    "A loop is created to repeat the process of feature extraction for all patients desired. This loop contains:\n",
    "\n",
    "1) Get seizures from \"seizure_label_patient\"\n",
    "2) Get RRi signal from \"patient_rri.parquet\"\n",
    "3) Convert RRi dates (which could be defined in string) to real dates (datetime objects)\n",
    "4) Choose window and overlap parameters\n",
    "5) call function **get_features_good_intervals** with **type** = 'baseline' or 'seizure'"
   ]
  },
  {
   "cell_type": "code",
   "execution_count": null,
   "outputs": [],
   "source": [
    "import os\n",
    "import time\n",
    "import pandas as pd\n",
    "from src.extract_features import get_features_good_intervals"
   ],
   "metadata": {
    "collapsed": false,
    "pycharm": {
     "name": "#%%\n"
    }
   }
  },
  {
   "cell_type": "code",
   "execution_count": null,
   "outputs": [],
   "source": [
    "save_dir = 'C:\\\\Users\\\\Mariana\\\\PycharmProjects\\\\epilepsy-2022\\\\data'\n",
    "\n",
    "for patient_num in ['352']:\n",
    "    print('Processing features for patient ', patient_num)\n",
    "    time_start = time.time()\n",
    "\n",
    "    patient = 'p' + patient_num\n",
    "    old_patient = 'PAT_' + patient[1:]\n",
    "    seizures = pd.read_csv(os.path.join(save_dir, 'seizure_label_'+patient), index_col=0)\n",
    "\n",
    "    # get seizure times\n",
    "    seizure_dates = pd.to_datetime(seizures['Date'], dayfirst=True)\n",
    "\n",
    "    # get rr intervals\n",
    "    rri_signal = pd.read_parquet(os.path.join(save_dir, patient+'_rri.parquet'))\n",
    "    # pass string of times to datetime\n",
    "    rri_signal['dates'] = pd.to_datetime(rri_signal['index'])\n",
    "\n",
    "    # window in seconds\n",
    "    window = 300\n",
    "    overlap = 30\n",
    "\n",
    "    get_features_good_intervals(rri_signal, type='seizures', patient=patient, seizure_dates=seizure_dates, overlap=overlap, window=window, save_dir = save_dir)\n",
    "\n",
    "    print(f'Time to process ... {time.time()-time_start}')"
   ],
   "metadata": {
    "collapsed": false,
    "pycharm": {
     "name": "#%%\n"
    }
   }
  },
  {
   "cell_type": "markdown",
   "id": "dd607404",
   "metadata": {
    "pycharm": {
     "name": "#%% md\n"
    }
   },
   "source": []
  },
  {
   "cell_type": "markdown",
   "id": "d71e62bc",
   "metadata": {
    "pycharm": {
     "name": "#%% md\n"
    }
   },
   "source": [
    "## <span style=\"color:#484848;\"> 2.2. Functions in Feature Extraction </span>\n",
    "\n",
    "The script extract features is divided in 4 functions: *get_features_good_intervals*, *get_all_feats*, *get_seizures_df*, *get_baselines_df*\n",
    "\n",
    "*get_seizures_df* is an auxiliary function to retrieve all rri_signals that respect the seizure boundaries: 1 hour prior the onset and 5 minutes after the onset\n",
    "*get_baseline_df* is an auxiliary function to retrieve all rri_signals outside the seizure boundaries: everything but 2 hours prior to the onset and 1 hour after the onset\n",
    "\n",
    "*get_features_good_intervals* is responsible to:\n",
    " 1) call *get_seizures_df* or *get_baseline_df* according to **type**\n",
    " 2) loop iteratively over all rri_signals using time spaced with the defined **overlap**.\n",
    " 3) Inside the loop: crop the segment from rri_signal using the **time** of each loop as the initial time, and the **window** size to get the final time\n",
    " 4) If the cropped segment has less than 70% of the size defined in **window**, it is rejected and the loop jumps to the next **time**\n",
    " 5) If the cropped segment is accepted, the function *get_all_feats* is called to extract features from it.\n",
    " 6) The features are saved in a new DataFrame **feats_df**"
   ]
  },
  {
   "cell_type": "markdown",
   "source": [
    "## <span style=\"color:#484848;\"> 2.2. Features Extracted </span>\n",
    "\n",
    "The features extracted correspond to features from temporal, frequency and nonlinear domain of the HRV.\n",
    "The file \"features_patient_seizure.parquet\" contains the table with all features extracted for one patient, only from seizure segments.\n",
    "\n",
    "In the next cell, we can open one feature file and see its details"
   ],
   "metadata": {
    "collapsed": false,
    "pycharm": {
     "name": "#%% md\n"
    }
   }
  },
  {
   "cell_type": "code",
   "execution_count": 46,
   "outputs": [
    {
     "data": {
      "text/plain": "       meanrr       rmssd   nn50      pnn50        sdnn        hti      tinn  \\\n0  566.664698  386.888423  465.0  88.068182  334.529948  40.692308  500.0000   \n1  580.146257  399.741984  451.0  87.572816  342.128414  39.692308  476.5625   \n2  621.142376  440.178940  428.0  88.981289  368.809335  40.166667  437.5000   \n3  638.875933  448.521769  413.0  88.247863  374.112790  42.636364  476.5625   \n4  636.900436  466.830947  422.0  89.406780  384.968584  43.000000  492.1875   \n\n       ulf_pwr  ulf_peak      ulf_rpwr  ...  dfa_a1  dfa_a2    hrmin  \\\n0   615.319340       0.0  1.082343e-03  ...    None    None  0.46875   \n1  1926.101790       0.0  4.435632e-03  ...    None    None  0.46875   \n2  1124.093572       0.0  2.631016e-03  ...    None    None  0.46875   \n3   199.963506       0.0  1.007130e-04  ...    None    None  0.46875   \n4     0.690665       0.0  8.303525e-08  ...    None    None  0.46875   \n\n       hrmax  hrminmax      hravg                            t0  \\\n0  113.90625  113.4375  33.999882 2019-06-26 20:12:56.796875432   \n1  113.90625  113.4375  34.808775 2019-06-26 20:13:26.796875432   \n2  113.90625  113.4375  37.268543 2019-06-26 20:13:56.796875432   \n3  113.90625  113.4375  38.332556 2019-06-26 20:14:26.796875432   \n4  126.09375  125.6250  38.214026 2019-06-26 20:14:56.796875432   \n\n                             t1       label    d2  \n0 2019-06-26 20:17:56.796875432  seizure0.0  None  \n1 2019-06-26 20:18:26.796875432  seizure0.0  None  \n2 2019-06-26 20:18:56.796875432  seizure0.0  None  \n3 2019-06-26 20:19:26.796875432  seizure0.0  None  \n4 2019-06-26 20:19:56.796875432  seizure0.0  None  \n\n[5 rows x 41 columns]",
      "text/html": "<div>\n<style scoped>\n    .dataframe tbody tr th:only-of-type {\n        vertical-align: middle;\n    }\n\n    .dataframe tbody tr th {\n        vertical-align: top;\n    }\n\n    .dataframe thead th {\n        text-align: right;\n    }\n</style>\n<table border=\"1\" class=\"dataframe\">\n  <thead>\n    <tr style=\"text-align: right;\">\n      <th></th>\n      <th>meanrr</th>\n      <th>rmssd</th>\n      <th>nn50</th>\n      <th>pnn50</th>\n      <th>sdnn</th>\n      <th>hti</th>\n      <th>tinn</th>\n      <th>ulf_pwr</th>\n      <th>ulf_peak</th>\n      <th>ulf_rpwr</th>\n      <th>...</th>\n      <th>dfa_a1</th>\n      <th>dfa_a2</th>\n      <th>hrmin</th>\n      <th>hrmax</th>\n      <th>hrminmax</th>\n      <th>hravg</th>\n      <th>t0</th>\n      <th>t1</th>\n      <th>label</th>\n      <th>d2</th>\n    </tr>\n  </thead>\n  <tbody>\n    <tr>\n      <th>0</th>\n      <td>566.664698</td>\n      <td>386.888423</td>\n      <td>465.0</td>\n      <td>88.068182</td>\n      <td>334.529948</td>\n      <td>40.692308</td>\n      <td>500.0000</td>\n      <td>615.319340</td>\n      <td>0.0</td>\n      <td>1.082343e-03</td>\n      <td>...</td>\n      <td>None</td>\n      <td>None</td>\n      <td>0.46875</td>\n      <td>113.90625</td>\n      <td>113.4375</td>\n      <td>33.999882</td>\n      <td>2019-06-26 20:12:56.796875432</td>\n      <td>2019-06-26 20:17:56.796875432</td>\n      <td>seizure0.0</td>\n      <td>None</td>\n    </tr>\n    <tr>\n      <th>1</th>\n      <td>580.146257</td>\n      <td>399.741984</td>\n      <td>451.0</td>\n      <td>87.572816</td>\n      <td>342.128414</td>\n      <td>39.692308</td>\n      <td>476.5625</td>\n      <td>1926.101790</td>\n      <td>0.0</td>\n      <td>4.435632e-03</td>\n      <td>...</td>\n      <td>None</td>\n      <td>None</td>\n      <td>0.46875</td>\n      <td>113.90625</td>\n      <td>113.4375</td>\n      <td>34.808775</td>\n      <td>2019-06-26 20:13:26.796875432</td>\n      <td>2019-06-26 20:18:26.796875432</td>\n      <td>seizure0.0</td>\n      <td>None</td>\n    </tr>\n    <tr>\n      <th>2</th>\n      <td>621.142376</td>\n      <td>440.178940</td>\n      <td>428.0</td>\n      <td>88.981289</td>\n      <td>368.809335</td>\n      <td>40.166667</td>\n      <td>437.5000</td>\n      <td>1124.093572</td>\n      <td>0.0</td>\n      <td>2.631016e-03</td>\n      <td>...</td>\n      <td>None</td>\n      <td>None</td>\n      <td>0.46875</td>\n      <td>113.90625</td>\n      <td>113.4375</td>\n      <td>37.268543</td>\n      <td>2019-06-26 20:13:56.796875432</td>\n      <td>2019-06-26 20:18:56.796875432</td>\n      <td>seizure0.0</td>\n      <td>None</td>\n    </tr>\n    <tr>\n      <th>3</th>\n      <td>638.875933</td>\n      <td>448.521769</td>\n      <td>413.0</td>\n      <td>88.247863</td>\n      <td>374.112790</td>\n      <td>42.636364</td>\n      <td>476.5625</td>\n      <td>199.963506</td>\n      <td>0.0</td>\n      <td>1.007130e-04</td>\n      <td>...</td>\n      <td>None</td>\n      <td>None</td>\n      <td>0.46875</td>\n      <td>113.90625</td>\n      <td>113.4375</td>\n      <td>38.332556</td>\n      <td>2019-06-26 20:14:26.796875432</td>\n      <td>2019-06-26 20:19:26.796875432</td>\n      <td>seizure0.0</td>\n      <td>None</td>\n    </tr>\n    <tr>\n      <th>4</th>\n      <td>636.900436</td>\n      <td>466.830947</td>\n      <td>422.0</td>\n      <td>89.406780</td>\n      <td>384.968584</td>\n      <td>43.000000</td>\n      <td>492.1875</td>\n      <td>0.690665</td>\n      <td>0.0</td>\n      <td>8.303525e-08</td>\n      <td>...</td>\n      <td>None</td>\n      <td>None</td>\n      <td>0.46875</td>\n      <td>126.09375</td>\n      <td>125.6250</td>\n      <td>38.214026</td>\n      <td>2019-06-26 20:14:56.796875432</td>\n      <td>2019-06-26 20:19:56.796875432</td>\n      <td>seizure0.0</td>\n      <td>None</td>\n    </tr>\n  </tbody>\n</table>\n<p>5 rows × 41 columns</p>\n</div>"
     },
     "execution_count": 46,
     "metadata": {},
     "output_type": "execute_result"
    }
   ],
   "source": [
    "import os\n",
    "import pandas as pd\n",
    "dir = 'C:\\\\Users\\\\Mariana\\\\PycharmProjects\\\\epilepsy-2022\\\\data'\n",
    "patient = 'p352'\n",
    "features_data = pd.read_parquet(os.path.join(dir, 'features_' + patient + '_seizure.parquet'))\n",
    "\n",
    "features_data.head()"
   ],
   "metadata": {
    "collapsed": false,
    "pycharm": {
     "name": "#%%\n"
    }
   }
  },
  {
   "cell_type": "markdown",
   "source": [
    "One seizure will have multiple segments, from 1 hour until 5 minutes after the seizure. to check a feature near a seizure onset, let's repeat the procedure done for the rri signal plot:\n",
    "1) Get seizure onset time\n",
    "2) Crop feature data around seizure onset and choose feature\n",
    "3) Plot the selected feature\n",
    "\n",
    "> 💡 **EXPLORE:** Change the values inside timedelta and see the visual effect it takes on temporal evolution"
   ],
   "metadata": {
    "collapsed": false,
    "pycharm": {
     "name": "#%% md\n"
    }
   }
  },
  {
   "cell_type": "code",
   "execution_count": 66,
   "outputs": [
    {
     "data": {
      "text/plain": "<Figure size 640x480 with 2 Axes>",
      "image/png": "[encoded data removed]"
     },
     "metadata": {},
     "output_type": "display_data"
    }
   ],
   "source": [
    "import datetime\n",
    "import matplotlib.pyplot as plt\n",
    "from matplotlib.dates import DateFormatter\n",
    "\n",
    "save_dir = 'C:\\\\Users\\\\Mariana\\\\PycharmProjects\\\\epilepsy-2022\\\\data'\n",
    "# 1)\n",
    "seizures = pd.read_csv(os.path.join(save_dir, 'seizure_label_' + patient), index_col=0)\n",
    "times = pd.to_datetime(seizures['Date'])\n",
    "seizure_time = times.loc[0]\n",
    "# 2)\n",
    "feature = 'nn50'\n",
    "feature1 = 'sd1'\n",
    "cropped_data = features_data.loc[features_data['t0'].between(times.iloc[0] - datetime.timedelta(seconds=120), times.iloc[0] + datetime.timedelta(seconds=120))]\n",
    "# 3)\n",
    "fig, ax = plt.subplots(1, 2)\n",
    "ax[0] = plt.plot(cropped_data['t0'], cropped_data[feature], label=feature, color='lightblue', linewidth=2)\n",
    "plt.vlines(times.iloc[0], cropped_data[feature].min(), cropped_data[feature].max(), color='teal', label='seizure onset')\n",
    "plt.ylabel(feature)\n",
    "plt.xlabel('Time (min:sec)')\n",
    "plt.savefig('C:\\\\Users\\\\Mariana\\\\Documents\\\\')\n",
    "#ax[0].xaxis.set_major_formatter(DateFormatter('%M:%S'))\n",
    "plt.legend()\n",
    "plt.show()"
   ],
   "metadata": {
    "collapsed": false,
    "pycharm": {
     "name": "#%%\n"
    }
   }
  },
  {
   "cell_type": "markdown",
   "source": [
    "# <span style=\"color:#00aba1;\"> 3. Clean Features </span>\n",
    "\n",
    "Features can present very different amplitudes and sharp edges. Besides, some intervals could be missing. In order to have a smoother, more comparable feature time serie, it suffers a standarisation, interpolation and smoothing."
   ],
   "metadata": {
    "collapsed": false,
    "pycharm": {
     "name": "#%% md\n"
    }
   }
  },
  {
   "cell_type": "code",
   "execution_count": 22,
   "outputs": [
    {
     "data": {
      "text/plain": "         meanrr     rmssd      nn50     pnn50      sdnn       hti      tinn  \\\nindex                                                                         \n0     -1.437652 -1.350280  1.155202 -2.248852 -0.807976 -1.475316 -1.196719   \n1     -1.412955 -1.328266  1.131880 -2.228774 -0.794917 -1.439288 -1.173627   \n2     -1.378543 -1.298016  1.099603 -2.199807 -0.777073 -1.388630 -1.139738   \n3     -1.334528 -1.259632  1.058492 -2.161957 -0.754512 -1.323579 -1.095158   \n4     -1.282225 -1.214313  1.009965 -2.115288 -0.728006 -1.246889 -1.041105   \n\n        vlf_pwr  vlf_peak  vlf_rpwr  ...       sd2      sd12      sd21  \\\nindex                                ...                                 \n0     -0.391150  1.137870  0.274330  ... -0.579896 -1.128679  1.090092   \n1     -0.376866  1.113465  0.220524  ... -0.570365 -1.111960  1.071317   \n2     -0.355712  1.089711  0.148884  ... -0.557442 -1.088557  1.045133   \n3     -0.327910  1.067000  0.059842  ... -0.541181 -1.058528  1.011615   \n4     -0.296073  1.049951 -0.041536  ... -0.522199 -1.022583  0.971626   \n\n          hrmin     hrmax  hrminmax     hravg       label  time2end  \\\nindex                                                                 \n0     -0.229748 -0.684336 -0.680076 -1.437652  seizure0.0   -1700.0   \n1     -0.229748 -0.677744 -0.673454 -1.412955  seizure0.0   -1683.0   \n2     -0.229748 -0.668918 -0.664590 -1.378543  seizure0.0   -1666.0   \n3     -0.229748 -0.657911 -0.653535 -1.334528  seizure0.0   -1649.0   \n4     -0.229748 -0.645321 -0.640890 -1.282225  seizure0.0   -1632.0   \n\n                                 t0  \nindex                                \n0     2019-06-26 20:13:06.796875432  \n1     2019-06-26 20:13:23.796875432  \n2     2019-06-26 20:13:40.796875432  \n3     2019-06-26 20:13:57.796875432  \n4     2019-06-26 20:14:14.796875432  \n\n[5 rows x 34 columns]",
      "text/html": "<div>\n<style scoped>\n    .dataframe tbody tr th:only-of-type {\n        vertical-align: middle;\n    }\n\n    .dataframe tbody tr th {\n        vertical-align: top;\n    }\n\n    .dataframe thead th {\n        text-align: right;\n    }\n</style>\n<table border=\"1\" class=\"dataframe\">\n  <thead>\n    <tr style=\"text-align: right;\">\n      <th></th>\n      <th>meanrr</th>\n      <th>rmssd</th>\n      <th>nn50</th>\n      <th>pnn50</th>\n      <th>sdnn</th>\n      <th>hti</th>\n      <th>tinn</th>\n      <th>vlf_pwr</th>\n      <th>vlf_peak</th>\n      <th>vlf_rpwr</th>\n      <th>...</th>\n      <th>sd2</th>\n      <th>sd12</th>\n      <th>sd21</th>\n      <th>hrmin</th>\n      <th>hrmax</th>\n      <th>hrminmax</th>\n      <th>hravg</th>\n      <th>label</th>\n      <th>time2end</th>\n      <th>t0</th>\n    </tr>\n    <tr>\n      <th>index</th>\n      <th></th>\n      <th></th>\n      <th></th>\n      <th></th>\n      <th></th>\n      <th></th>\n      <th></th>\n      <th></th>\n      <th></th>\n      <th></th>\n      <th></th>\n      <th></th>\n      <th></th>\n      <th></th>\n      <th></th>\n      <th></th>\n      <th></th>\n      <th></th>\n      <th></th>\n      <th></th>\n      <th></th>\n    </tr>\n  </thead>\n  <tbody>\n    <tr>\n      <th>0</th>\n      <td>-1.437652</td>\n      <td>-1.350280</td>\n      <td>1.155202</td>\n      <td>-2.248852</td>\n      <td>-0.807976</td>\n      <td>-1.475316</td>\n      <td>-1.196719</td>\n      <td>-0.391150</td>\n      <td>1.137870</td>\n      <td>0.274330</td>\n      <td>...</td>\n      <td>-0.579896</td>\n      <td>-1.128679</td>\n      <td>1.090092</td>\n      <td>-0.229748</td>\n      <td>-0.684336</td>\n      <td>-0.680076</td>\n      <td>-1.437652</td>\n      <td>seizure0.0</td>\n      <td>-1700.0</td>\n      <td>2019-06-26 20:13:06.796875432</td>\n    </tr>\n    <tr>\n      <th>1</th>\n      <td>-1.412955</td>\n      <td>-1.328266</td>\n      <td>1.131880</td>\n      <td>-2.228774</td>\n      <td>-0.794917</td>\n      <td>-1.439288</td>\n      <td>-1.173627</td>\n      <td>-0.376866</td>\n      <td>1.113465</td>\n      <td>0.220524</td>\n      <td>...</td>\n      <td>-0.570365</td>\n      <td>-1.111960</td>\n      <td>1.071317</td>\n      <td>-0.229748</td>\n      <td>-0.677744</td>\n      <td>-0.673454</td>\n      <td>-1.412955</td>\n      <td>seizure0.0</td>\n      <td>-1683.0</td>\n      <td>2019-06-26 20:13:23.796875432</td>\n    </tr>\n    <tr>\n      <th>2</th>\n      <td>-1.378543</td>\n      <td>-1.298016</td>\n      <td>1.099603</td>\n      <td>-2.199807</td>\n      <td>-0.777073</td>\n      <td>-1.388630</td>\n      <td>-1.139738</td>\n      <td>-0.355712</td>\n      <td>1.089711</td>\n      <td>0.148884</td>\n      <td>...</td>\n      <td>-0.557442</td>\n      <td>-1.088557</td>\n      <td>1.045133</td>\n      <td>-0.229748</td>\n      <td>-0.668918</td>\n      <td>-0.664590</td>\n      <td>-1.378543</td>\n      <td>seizure0.0</td>\n      <td>-1666.0</td>\n      <td>2019-06-26 20:13:40.796875432</td>\n    </tr>\n    <tr>\n      <th>3</th>\n      <td>-1.334528</td>\n      <td>-1.259632</td>\n      <td>1.058492</td>\n      <td>-2.161957</td>\n      <td>-0.754512</td>\n      <td>-1.323579</td>\n      <td>-1.095158</td>\n      <td>-0.327910</td>\n      <td>1.067000</td>\n      <td>0.059842</td>\n      <td>...</td>\n      <td>-0.541181</td>\n      <td>-1.058528</td>\n      <td>1.011615</td>\n      <td>-0.229748</td>\n      <td>-0.657911</td>\n      <td>-0.653535</td>\n      <td>-1.334528</td>\n      <td>seizure0.0</td>\n      <td>-1649.0</td>\n      <td>2019-06-26 20:13:57.796875432</td>\n    </tr>\n    <tr>\n      <th>4</th>\n      <td>-1.282225</td>\n      <td>-1.214313</td>\n      <td>1.009965</td>\n      <td>-2.115288</td>\n      <td>-0.728006</td>\n      <td>-1.246889</td>\n      <td>-1.041105</td>\n      <td>-0.296073</td>\n      <td>1.049951</td>\n      <td>-0.041536</td>\n      <td>...</td>\n      <td>-0.522199</td>\n      <td>-1.022583</td>\n      <td>0.971626</td>\n      <td>-0.229748</td>\n      <td>-0.645321</td>\n      <td>-0.640890</td>\n      <td>-1.282225</td>\n      <td>seizure0.0</td>\n      <td>-1632.0</td>\n      <td>2019-06-26 20:14:14.796875432</td>\n    </tr>\n  </tbody>\n</table>\n<p>5 rows × 34 columns</p>\n</div>"
     },
     "execution_count": 22,
     "metadata": {},
     "output_type": "execute_result"
    }
   ],
   "source": [
    "from src import clean_features\n",
    "import pandas as pd\n",
    "save_dir = 'C:\\\\Users\\\\Mariana\\\\PycharmProjects\\\\epilepsy-2022\\\\data'\n",
    "patient = 'p352'\n",
    "\n",
    "clean_features.clean_features(patient, save_dir, type='seizure')\n",
    "clean_data = pd.read_parquet(os.path.join(save_dir, 'clean_features_' + patient + '_seizure.parquet'))\n",
    "clean_data.head()"
   ],
   "metadata": {
    "collapsed": false,
    "pycharm": {
     "name": "#%%\n"
    }
   }
  },
  {
   "cell_type": "markdown",
   "source": [
    "> 💡 **EXPLORE:** Change feature (using the names of the columns of clean_data)"
   ],
   "metadata": {
    "collapsed": false,
    "pycharm": {
     "name": "#%% md\n"
    }
   }
  },
  {
   "cell_type": "code",
   "execution_count": null,
   "outputs": [],
   "source": [
    "import datetime\n",
    "import matplotlib.pyplot as plt\n",
    "from matplotlib.dates import DateFormatter\n",
    "\n",
    "save_dir = 'C:\\\\Users\\\\Mariana\\\\PycharmProjects\\\\epilepsy-2022\\\\data'\n",
    "# 1)\n",
    "seizures = pd.read_csv(os.path.join(save_dir, 'seizure_label_' + patient), index_col=0)\n",
    "times = pd.to_datetime(seizures['Date'])\n",
    "seizure_time = times.loc[0]\n",
    "# 2)\n",
    "feature = 'lf_hf'\n",
    "cropped_data = clean_data.loc[clean_data['t0'].between(times.iloc[0] - datetime.timedelta(minutes=40), times.iloc[0] + datetime.timedelta(seconds=300))]\n",
    "# 3)\n",
    "fig, ax = plt.subplots()\n",
    "plt.plot(cropped_data['t0'], cropped_data[feature], label='rri')\n",
    "plt.vlines(times.iloc[0], cropped_data[feature].min(), cropped_data[feature].max(), color='red', label='seizure onset')\n",
    "plt.ylabel(feature)\n",
    "plt.xlabel('Time (min:sec)')\n",
    "ax.xaxis.set_major_formatter(DateFormatter('%M:%S'))\n",
    "plt.legend()\n",
    "plt.show()"
   ],
   "metadata": {
    "collapsed": false,
    "pycharm": {
     "name": "#%%\n"
    }
   }
  }
 ],
 "metadata": {
  "kernelspec": {
   "display_name": "Python 3 (ipykernel)",
   "language": "python",
   "name": "python3"
  },
  "language_info": {
   "codemirror_mode": {
    "name": "ipython",
    "version": 3
   },
   "file_extension": ".py",
   "mimetype": "text/x-python",
   "name": "python",
   "nbconvert_exporter": "python",
   "pygments_lexer": "ipython3",
   "version": "3.9.7"
  }
 },
 "nbformat": 4,
 "nbformat_minor": 5
}