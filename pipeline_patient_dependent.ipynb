{
 "cells": [
  {
   "cell_type": "code",
   "execution_count": 3,
   "metadata": {
    "collapsed": true,
    "pycharm": {
     "name": "#%%\n"
    }
   },
   "outputs": [],
   "source": [
    "import os\n",
    "\n",
    "import numpy as np\n",
    "import pandas as pd\n",
    "\n",
    "from src import dataset"
   ]
  },
  {
   "cell_type": "code",
   "execution_count": 4,
   "outputs": [
    {
     "name": "stderr",
     "output_type": "stream",
     "text": [
      "C:\\Users\\Mariana\\AppData\\Local\\Temp\\ipykernel_16348\\3722300735.py:2: VisibleDeprecationWarning: Creating an ndarray from ragged nested sequences (which is a list-or-tuple of lists-or-tuples-or ndarrays with different lengths or shapes) is deprecated. If you meant to do this, you must specify 'dtype=object' when creating the ndarray.\n",
      "  X = np.array(list(X_dict.values()))\n",
      "C:\\Users\\Mariana\\AppData\\Local\\Temp\\ipykernel_16348\\3722300735.py:3: VisibleDeprecationWarning: Creating an ndarray from ragged nested sequences (which is a list-or-tuple of lists-or-tuples-or ndarrays with different lengths or shapes) is deprecated. If you meant to do this, you must specify 'dtype=object' when creating the ndarray.\n",
      "  y = np.array(list(y_dict.values()))\n"
     ]
    }
   ],
   "source": [
    "X_dict, y_dict, list_features = dataset.create_dataset(path_to_files='C:\\\\Users\\\\Mariana\\\\PycharmProjects\\\\epilepsy-2022\\\\data', str_files='level2_features')\n",
    "X = np.array(list(X_dict.values()))\n",
    "y = np.array(list(y_dict.values()))"
   ],
   "metadata": {
    "collapsed": false,
    "pycharm": {
     "name": "#%%\n"
    }
   }
  },
  {
   "cell_type": "code",
   "execution_count": 10,
   "outputs": [
    {
     "data": {
      "text/plain": "array([0., 0., 0., 0., 0., 0., 0., 0., 0., 0., 0., 0., 0., 0., 0., 0., 0.,\n       0., 0., 0., 0., 0., 0., 0., 0., 0., 0., 1., 1., 1., 1., 1., 1., 1.,\n       1., 1.])"
     },
     "execution_count": 10,
     "metadata": {},
     "output_type": "execute_result"
    }
   ],
   "source": [
    "y[1]"
   ],
   "metadata": {
    "collapsed": false,
    "pycharm": {
     "name": "#%%\n"
    }
   }
  },
  {
   "cell_type": "code",
   "execution_count": 5,
   "outputs": [
    {
     "data": {
      "text/plain": "['meanrr-min',\n 'rmssd-min',\n 'nn50-min',\n 'pnn50-min',\n 'sdnn-min',\n 'hti-min',\n 'tinn-min',\n 'vlf_pwr-min',\n 'vlf_peak-min',\n 'vlf_rpwr-min',\n 'lf_pwr-min',\n 'lf_peak-min',\n 'lf_rpwr-min',\n 'lfnupwr-min',\n 'hf_pwr-min',\n 'hf_peak-min',\n 'hf_rpwr-min',\n 'hfnupwr-min',\n 'vhf_pwr-min',\n 'vhf_peak-min',\n 'vhf_rpwr-min',\n 'lf_hf-min',\n 's-min',\n 'sd1-min',\n 'sd2-min',\n 'sd12-min',\n 'sd21-min',\n 'hrmin-min',\n 'hrmax-min',\n 'hrminmax-min',\n 'hravg-min',\n 'meanrr-minmax',\n 'rmssd-minmax',\n 'nn50-minmax',\n 'pnn50-minmax',\n 'sdnn-minmax',\n 'hti-minmax',\n 'tinn-minmax',\n 'vlf_pwr-minmax',\n 'vlf_peak-minmax',\n 'vlf_rpwr-minmax',\n 'lf_pwr-minmax',\n 'lf_peak-minmax',\n 'lf_rpwr-minmax',\n 'lfnupwr-minmax',\n 'hf_pwr-minmax',\n 'hf_peak-minmax',\n 'hf_rpwr-minmax',\n 'hfnupwr-minmax',\n 'vhf_pwr-minmax',\n 'vhf_peak-minmax',\n 'vhf_rpwr-minmax',\n 'lf_hf-minmax',\n 's-minmax',\n 'sd1-minmax',\n 'sd2-minmax',\n 'sd12-minmax',\n 'sd21-minmax',\n 'hrmin-minmax',\n 'hrmax-minmax',\n 'hrminmax-minmax',\n 'hravg-minmax',\n 'meanrr-deriv',\n 'rmssd-deriv',\n 'nn50-deriv',\n 'pnn50-deriv',\n 'sdnn-deriv',\n 'hti-deriv',\n 'tinn-deriv',\n 'vlf_pwr-deriv',\n 'vlf_peak-deriv',\n 'vlf_rpwr-deriv',\n 'lf_pwr-deriv',\n 'lf_peak-deriv',\n 'lf_rpwr-deriv',\n 'lfnupwr-deriv',\n 'hf_pwr-deriv',\n 'hf_peak-deriv',\n 'hf_rpwr-deriv',\n 'hfnupwr-deriv',\n 'vhf_pwr-deriv',\n 'vhf_peak-deriv',\n 'vhf_rpwr-deriv',\n 'lf_hf-deriv',\n 's-deriv',\n 'sd1-deriv',\n 'sd2-deriv',\n 'sd12-deriv',\n 'sd21-deriv',\n 'hrmin-deriv',\n 'hrmax-deriv',\n 'hrminmax-deriv',\n 'hravg-deriv',\n 'meanrr-skewness',\n 'rmssd-skewness',\n 'nn50-skewness',\n 'pnn50-skewness',\n 'sdnn-skewness',\n 'hti-skewness',\n 'tinn-skewness',\n 'vlf_pwr-skewness',\n 'vlf_peak-skewness',\n 'vlf_rpwr-skewness',\n 'lf_pwr-skewness',\n 'lf_peak-skewness',\n 'lf_rpwr-skewness',\n 'lfnupwr-skewness',\n 'hf_pwr-skewness',\n 'hf_peak-skewness',\n 'hf_rpwr-skewness',\n 'hfnupwr-skewness',\n 'vhf_pwr-skewness',\n 'vhf_peak-skewness',\n 'vhf_rpwr-skewness',\n 'lf_hf-skewness',\n 's-skewness',\n 'sd1-skewness',\n 'sd2-skewness',\n 'sd12-skewness',\n 'sd21-skewness',\n 'hrmin-skewness',\n 'hrmax-skewness',\n 'hrminmax-skewness',\n 'hravg-skewness',\n 'meanrr-trend_ratio',\n 'rmssd-trend_ratio',\n 'nn50-trend_ratio',\n 'pnn50-trend_ratio',\n 'sdnn-trend_ratio',\n 'hti-trend_ratio',\n 'tinn-trend_ratio',\n 'vlf_pwr-trend_ratio',\n 'vlf_peak-trend_ratio',\n 'vlf_rpwr-trend_ratio',\n 'lf_pwr-trend_ratio',\n 'lf_peak-trend_ratio',\n 'lf_rpwr-trend_ratio',\n 'lfnupwr-trend_ratio',\n 'hf_pwr-trend_ratio',\n 'hf_peak-trend_ratio',\n 'hf_rpwr-trend_ratio',\n 'hfnupwr-trend_ratio',\n 'vhf_pwr-trend_ratio',\n 'vhf_peak-trend_ratio',\n 'vhf_rpwr-trend_ratio',\n 'lf_hf-trend_ratio',\n 's-trend_ratio',\n 'sd1-trend_ratio',\n 'sd2-trend_ratio',\n 'sd12-trend_ratio',\n 'sd21-trend_ratio',\n 'hrmin-trend_ratio',\n 'hrmax-trend_ratio',\n 'hrminmax-trend_ratio',\n 'hravg-trend_ratio',\n 'meanrr-trend_diff',\n 'rmssd-trend_diff',\n 'nn50-trend_diff',\n 'pnn50-trend_diff',\n 'sdnn-trend_diff',\n 'hti-trend_diff',\n 'tinn-trend_diff',\n 'vlf_pwr-trend_diff',\n 'vlf_peak-trend_diff',\n 'vlf_rpwr-trend_diff',\n 'lf_pwr-trend_diff',\n 'lf_peak-trend_diff',\n 'lf_rpwr-trend_diff',\n 'lfnupwr-trend_diff',\n 'hf_pwr-trend_diff',\n 'hf_peak-trend_diff',\n 'hf_rpwr-trend_diff',\n 'hfnupwr-trend_diff',\n 'vhf_pwr-trend_diff',\n 'vhf_peak-trend_diff',\n 'vhf_rpwr-trend_diff',\n 'lf_hf-trend_diff',\n 's-trend_diff',\n 'sd1-trend_diff',\n 'sd2-trend_diff',\n 'sd12-trend_diff',\n 'sd21-trend_diff',\n 'hrmin-trend_diff',\n 'hrmax-trend_diff',\n 'hrminmax-trend_diff',\n 'hravg-trend_diff']"
     },
     "execution_count": 5,
     "metadata": {},
     "output_type": "execute_result"
    }
   ],
   "source": [
    "list_features"
   ],
   "metadata": {
    "collapsed": false,
    "pycharm": {
     "name": "#%%\n"
    }
   }
  },
  {
   "cell_type": "code",
   "execution_count": 78,
   "outputs": [
    {
     "name": "stdout",
     "output_type": "stream",
     "text": [
      "[0, 124]\n",
      "['p312']\n",
      "              precision    recall  f1-score   support\n",
      "\n",
      "         0.0       0.12      1.00      0.22         2\n",
      "         1.0       1.00      0.42      0.59        24\n",
      "\n",
      "    accuracy                           0.46        26\n",
      "   macro avg       0.56      0.71      0.41        26\n",
      "weighted avg       0.93      0.46      0.56        26\n",
      "\n",
      "['p326']\n",
      "              precision    recall  f1-score   support\n",
      "\n",
      "         0.0       0.33      0.90      0.49        10\n",
      "         1.0       0.89      0.31      0.46        26\n",
      "\n",
      "    accuracy                           0.47        36\n",
      "   macro avg       0.61      0.60      0.47        36\n",
      "weighted avg       0.73      0.47      0.47        36\n",
      "\n",
      "['p352']\n",
      "              precision    recall  f1-score   support\n",
      "\n",
      "         0.0       0.08      1.00      0.15         4\n",
      "         1.0       1.00      0.02      0.04        47\n",
      "\n",
      "    accuracy                           0.10        51\n",
      "   macro avg       0.54      0.51      0.09        51\n",
      "weighted avg       0.93      0.10      0.05        51\n",
      "\n",
      "['p358']\n",
      "              precision    recall  f1-score   support\n",
      "\n",
      "         0.0       0.10      1.00      0.18         1\n",
      "         1.0       1.00      0.55      0.71        20\n",
      "\n",
      "    accuracy                           0.57        21\n",
      "   macro avg       0.55      0.78      0.45        21\n",
      "weighted avg       0.96      0.57      0.68        21\n",
      "\n",
      "['p365']\n",
      "              precision    recall  f1-score   support\n",
      "\n",
      "         0.0       0.97      0.95      0.96        60\n",
      "         1.0       0.25      0.33      0.29         3\n",
      "\n",
      "    accuracy                           0.92        63\n",
      "   macro avg       0.61      0.64      0.62        63\n",
      "weighted avg       0.93      0.92      0.93        63\n",
      "\n",
      "['p386']\n",
      "              precision    recall  f1-score   support\n",
      "\n",
      "         0.0       0.12      1.00      0.22         3\n",
      "         1.0       1.00      0.16      0.28        25\n",
      "\n",
      "    accuracy                           0.25        28\n",
      "   macro avg       0.56      0.58      0.25        28\n",
      "weighted avg       0.91      0.25      0.27        28\n",
      "\n",
      "['p400']\n",
      "              precision    recall  f1-score   support\n",
      "\n",
      "         0.0       0.21      0.75      0.33         8\n",
      "         1.0       0.82      0.29      0.43        31\n",
      "\n",
      "    accuracy                           0.38        39\n",
      "   macro avg       0.52      0.52      0.38        39\n",
      "weighted avg       0.69      0.38      0.41        39\n",
      "\n",
      "['p413']\n",
      "              precision    recall  f1-score   support\n",
      "\n",
      "         0.0       0.17      0.89      0.29        18\n",
      "         1.0       0.71      0.06      0.11        83\n",
      "\n",
      "    accuracy                           0.21       101\n",
      "   macro avg       0.44      0.47      0.20       101\n",
      "weighted avg       0.62      0.21      0.14       101\n",
      "\n"
     ]
    }
   ],
   "source": [
    "# datasets leave 2 patients out\n",
    "from sklearn.model_selection import LeavePOut\n",
    "from sklearn.naive_bayes import GaussianNB\n",
    "from sklearn.metrics import classification_report\n",
    "\n",
    "lpo = LeavePOut(p=1)\n",
    "\n",
    "selected_features = ['meanrr-min', 'meanrr-trend_ratio']\n",
    "selected_features_idx = [idx for idx, feature in enumerate(list_features) if feature in selected_features]\n",
    "print(selected_features_idx)\n",
    "\n",
    "def patient_eval(selected_features_idx):\n",
    "    for pat_idx in X_dict.keys():\n",
    "        X_pat = X[pat_idx]\n",
    "        for text_idx =\n",
    "        for train_idx, test_idx in lpo.split(X_pat):\n",
    "            print(np.array(list(X_pat.keys()))[test_idx])\n",
    "            X_train, X_test = np.vstack(X[train_idx])[:, selected_features_idx], np.vstack(X[test_idx])[:, selected_features_idx]\n",
    "            y_train, y_test = np.hstack(y[train_idx]), np.hstack(y[test_idx])\n",
    "        gnb = GaussianNB()\n",
    "        y_pred = gnb.fit(X_train, y_train).predict(X_test)\n",
    "        cr = classification_report(y_pred, y_test)\n",
    "        print(cr)\n",
    "    return cr\n",
    "\n",
    "cr = kfold_eval(selected_features_idx)\n",
    "\n",
    "\n",
    "\n"
   ],
   "metadata": {
    "collapsed": false,
    "pycharm": {
     "name": "#%%\n"
    }
   }
  },
  {
   "cell_type": "code",
   "execution_count": 69,
   "outputs": [
    {
     "data": {
      "text/plain": "'              precision    recall  f1-score   support\\n\\n         0.0       0.48      0.83      0.61        58\\n         1.0       0.60      0.23      0.33        66\\n\\n    accuracy                           0.51       124\\n   macro avg       0.54      0.53      0.47       124\\nweighted avg       0.55      0.51      0.46       124\\n'"
     },
     "execution_count": 69,
     "metadata": {},
     "output_type": "execute_result"
    }
   ],
   "source": [
    "cr"
   ],
   "metadata": {
    "collapsed": false,
    "pycharm": {
     "name": "#%%\n"
    }
   }
  },
  {
   "cell_type": "code",
   "execution_count": null,
   "outputs": [],
   "source": [],
   "metadata": {
    "collapsed": false,
    "pycharm": {
     "name": "#%%\n"
    }
   }
  }
 ],
 "metadata": {
  "kernelspec": {
   "display_name": "Python 3",
   "language": "python",
   "name": "python3"
  },
  "language_info": {
   "codemirror_mode": {
    "name": "ipython",
    "version": 2
   },
   "file_extension": ".py",
   "mimetype": "text/x-python",
   "name": "python",
   "nbconvert_exporter": "python",
   "pygments_lexer": "ipython2",
   "version": "2.7.6"
  }
 },
 "nbformat": 4,
 "nbformat_minor": 0
}