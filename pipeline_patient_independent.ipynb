{
 "cells": [
  {
   "cell_type": "code",
   "execution_count": 74,
   "metadata": {
    "collapsed": true,
    "pycharm": {
     "name": "#%%\n"
    }
   },
   "outputs": [],
   "source": [
    "import os\n",
    "\n",
    "import numpy as np\n",
    "import pandas as pd\n",
    "\n",
    "from src import dataset"
   ]
  },
  {
   "cell_type": "code",
   "execution_count": 75,
   "outputs": [
    {
     "name": "stderr",
     "output_type": "stream",
     "text": [
      "C:\\Users\\Mariana\\AppData\\Local\\Temp\\ipykernel_18200\\3722300735.py:2: VisibleDeprecationWarning: Creating an ndarray from ragged nested sequences (which is a list-or-tuple of lists-or-tuples-or ndarrays with different lengths or shapes) is deprecated. If you meant to do this, you must specify 'dtype=object' when creating the ndarray.\n",
      "  X = np.array(list(X_dict.values()))\n",
      "C:\\Users\\Mariana\\AppData\\Local\\Temp\\ipykernel_18200\\3722300735.py:3: VisibleDeprecationWarning: Creating an ndarray from ragged nested sequences (which is a list-or-tuple of lists-or-tuples-or ndarrays with different lengths or shapes) is deprecated. If you meant to do this, you must specify 'dtype=object' when creating the ndarray.\n",
      "  y = np.array(list(y_dict.values()))\n"
     ]
    }
   ],
   "source": [
    "X_dict, y_dict, list_features = dataset.create_dataset(path_to_files='C:\\\\Users\\\\Mariana\\\\PycharmProjects\\\\epilepsy-2022\\\\data', str_files='level2_features')\n",
    "X = np.array(list(X_dict.values()))\n",
    "y = np.array(list(y_dict.values()))"
   ],
   "metadata": {
    "collapsed": false,
    "pycharm": {
     "name": "#%%\n"
    }
   }
  },
  {
   "cell_type": "code",
   "execution_count": 76,
   "outputs": [
    {
     "data": {
      "text/plain": "array([array([0., 0., 0., 0., 0., 0., 0., 0., 0., 0., 0., 0., 0., 0., 0., 0., 1.,\n              1., 1., 1., 1., 1., 1., 1., 1., 1.])                               ,\n       array([0., 0., 0., 0., 0., 0., 0., 0., 0., 0., 0., 0., 0., 0., 0., 0., 0.,\n              0., 0., 0., 0., 0., 0., 0., 0., 0., 0., 1., 1., 1., 1., 1., 1., 1.,\n              1., 1.])                                                           ,\n       array([0., 0., 0., 0., 0., 0., 0., 0., 0., 0., 0., 0., 0., 0., 0., 0., 0.,\n              0., 0., 0., 0., 0., 0., 0., 0., 0., 0., 0., 0., 0., 0., 0., 0., 0.,\n              0., 0., 0., 0., 0., 0., 0., 0., 0., 0., 0., 0., 0., 0., 0., 0., 1.]),\n       array([0., 0., 0., 0., 0., 0., 0., 0., 0., 0., 1., 1., 1., 1., 1., 1., 1.,\n              1., 1., 1., 1.])                                                   ,\n       array([0., 0., 0., 0., 0., 0., 0., 0., 0., 0., 0., 0., 0., 0., 0., 0., 0.,\n              0., 0., 0., 0., 0., 0., 0., 0., 0., 0., 0., 0., 0., 0., 0., 0., 0.,\n              0., 0., 0., 0., 0., 0., 0., 0., 0., 0., 0., 0., 0., 0., 0., 0., 0.,\n              0., 0., 0., 0., 0., 0., 0., 0., 1., 1., 1., 1.])                   ,\n       array([0., 0., 0., 0., 0., 0., 0., 0., 0., 0., 0., 0., 0., 0., 0., 0., 0.,\n              0., 0., 0., 0., 0., 0., 0., 1., 1., 1., 1.])                       ,\n       array([0., 0., 0., 0., 0., 0., 0., 0., 0., 0., 0., 0., 0., 0., 0., 0., 0.,\n              0., 0., 0., 0., 0., 0., 0., 0., 0., 0., 0., 1., 1., 1., 1., 1., 1.,\n              1., 1., 1., 1., 1.])                                               ,\n       array([0., 0., 0., 0., 0., 0., 0., 0., 0., 0., 0., 0., 0., 0., 0., 0., 0.,\n              0., 0., 0., 0., 0., 0., 0., 0., 0., 0., 0., 0., 0., 0., 0., 0., 0.,\n              0., 0., 0., 0., 0., 0., 0., 0., 0., 0., 0., 0., 0., 0., 0., 0., 0.,\n              0., 0., 0., 0., 0., 0., 0., 0., 0., 0., 0., 0., 0., 0., 0., 0., 0.,\n              0., 0., 0., 0., 0., 0., 0., 0., 0., 0., 0., 0., 0., 0., 0., 0., 0.,\n              0., 0., 0., 0., 0., 0., 0., 0., 0., 1., 1., 1., 1., 1., 1., 1.])   ],\n      dtype=object)"
     },
     "execution_count": 76,
     "metadata": {},
     "output_type": "execute_result"
    }
   ],
   "source": [
    "y"
   ],
   "metadata": {
    "collapsed": false,
    "pycharm": {
     "name": "#%%\n"
    }
   }
  },
  {
   "cell_type": "code",
   "execution_count": 78,
   "outputs": [
    {
     "name": "stdout",
     "output_type": "stream",
     "text": [
      "[0, 124]\n",
      "['p312']\n",
      "              precision    recall  f1-score   support\n",
      "\n",
      "         0.0       0.12      1.00      0.22         2\n",
      "         1.0       1.00      0.42      0.59        24\n",
      "\n",
      "    accuracy                           0.46        26\n",
      "   macro avg       0.56      0.71      0.41        26\n",
      "weighted avg       0.93      0.46      0.56        26\n",
      "\n",
      "['p326']\n",
      "              precision    recall  f1-score   support\n",
      "\n",
      "         0.0       0.33      0.90      0.49        10\n",
      "         1.0       0.89      0.31      0.46        26\n",
      "\n",
      "    accuracy                           0.47        36\n",
      "   macro avg       0.61      0.60      0.47        36\n",
      "weighted avg       0.73      0.47      0.47        36\n",
      "\n",
      "['p352']\n",
      "              precision    recall  f1-score   support\n",
      "\n",
      "         0.0       0.08      1.00      0.15         4\n",
      "         1.0       1.00      0.02      0.04        47\n",
      "\n",
      "    accuracy                           0.10        51\n",
      "   macro avg       0.54      0.51      0.09        51\n",
      "weighted avg       0.93      0.10      0.05        51\n",
      "\n",
      "['p358']\n",
      "              precision    recall  f1-score   support\n",
      "\n",
      "         0.0       0.10      1.00      0.18         1\n",
      "         1.0       1.00      0.55      0.71        20\n",
      "\n",
      "    accuracy                           0.57        21\n",
      "   macro avg       0.55      0.78      0.45        21\n",
      "weighted avg       0.96      0.57      0.68        21\n",
      "\n",
      "['p365']\n",
      "              precision    recall  f1-score   support\n",
      "\n",
      "         0.0       0.97      0.95      0.96        60\n",
      "         1.0       0.25      0.33      0.29         3\n",
      "\n",
      "    accuracy                           0.92        63\n",
      "   macro avg       0.61      0.64      0.62        63\n",
      "weighted avg       0.93      0.92      0.93        63\n",
      "\n",
      "['p386']\n",
      "              precision    recall  f1-score   support\n",
      "\n",
      "         0.0       0.12      1.00      0.22         3\n",
      "         1.0       1.00      0.16      0.28        25\n",
      "\n",
      "    accuracy                           0.25        28\n",
      "   macro avg       0.56      0.58      0.25        28\n",
      "weighted avg       0.91      0.25      0.27        28\n",
      "\n",
      "['p400']\n",
      "              precision    recall  f1-score   support\n",
      "\n",
      "         0.0       0.21      0.75      0.33         8\n",
      "         1.0       0.82      0.29      0.43        31\n",
      "\n",
      "    accuracy                           0.38        39\n",
      "   macro avg       0.52      0.52      0.38        39\n",
      "weighted avg       0.69      0.38      0.41        39\n",
      "\n",
      "['p413']\n",
      "              precision    recall  f1-score   support\n",
      "\n",
      "         0.0       0.17      0.89      0.29        18\n",
      "         1.0       0.71      0.06      0.11        83\n",
      "\n",
      "    accuracy                           0.21       101\n",
      "   macro avg       0.44      0.47      0.20       101\n",
      "weighted avg       0.62      0.21      0.14       101\n",
      "\n"
     ]
    }
   ],
   "source": [
    "# datasets leave 2 patients out\n",
    "from sklearn.model_selection import LeavePOut\n",
    "from sklearn.naive_bayes import GaussianNB\n",
    "from sklearn.metrics import classification_report\n",
    "\n",
    "lpo = LeavePOut(p=1)\n",
    "\n",
    "selected_features = ['meanrr-min', 'meanrr-trend_ratio']\n",
    "selected_features_idx = [idx for idx, feature in enumerate(list_features) if feature in selected_features]\n",
    "print(selected_features_idx)\n",
    "\n",
    "def kfold_eval(selected_features_idx):\n",
    "    for train_idx, test_idx in lpo.split(X):\n",
    "        print(np.array(list(X_dict.keys()))[test_idx])\n",
    "        X_train, X_test = np.vstack(X[train_idx])[:, selected_features_idx], np.vstack(X[test_idx])[:, selected_features_idx]\n",
    "        y_train, y_test = np.hstack(y[train_idx]), np.hstack(y[test_idx])\n",
    "        gnb = GaussianNB()\n",
    "        y_pred = gnb.fit(X_train, y_train).predict(X_test)\n",
    "        cr = classification_report(y_pred, y_test)\n",
    "        print(cr)\n",
    "    return cr\n",
    "\n",
    "cr = kfold_eval(selected_features_idx)\n",
    "\n",
    "\n",
    "\n"
   ],
   "metadata": {
    "collapsed": false,
    "pycharm": {
     "name": "#%%\n"
    }
   }
  }
 ],
 "metadata": {
  "kernelspec": {
   "display_name": "Python 3",
   "language": "python",
   "name": "python3"
  },
  "language_info": {
   "codemirror_mode": {
    "name": "ipython",
    "version": 2
   },
   "file_extension": ".py",
   "mimetype": "text/x-python",
   "name": "python",
   "nbconvert_exporter": "python",
   "pygments_lexer": "ipython2",
   "version": "2.7.6"
  }
 },
 "nbformat": 4,
 "nbformat_minor": 0
}