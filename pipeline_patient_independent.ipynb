{
 "cells": [
  {
   "cell_type": "code",
   "execution_count": 1,
   "metadata": {
    "collapsed": true,
    "pycharm": {
     "name": "#%%\n"
    }
   },
   "outputs": [],
   "source": [
    "import os\n",
    "\n",
    "import numpy as np\n",
    "import pandas as pd\n",
    "\n",
    "from src import dataset"
   ]
  },
  {
   "cell_type": "code",
   "execution_count": 10,
   "outputs": [
    {
     "ename": "KeyError",
     "evalue": "\"None of [Index(['min', 'minmax', 'deriv', 'trend_ratio', 'trend_diff', 'skewness'], dtype='object')] are in the [columns]\"",
     "output_type": "error",
     "traceback": [
      "\u001B[1;31m---------------------------------------------------------------------------\u001B[0m",
      "\u001B[1;31mKeyError\u001B[0m                                  Traceback (most recent call last)",
      "Cell \u001B[1;32mIn [10], line 1\u001B[0m\n\u001B[1;32m----> 1\u001B[0m X_dict, y_dict, list_features \u001B[38;5;241m=\u001B[39m \u001B[43mdataset\u001B[49m\u001B[38;5;241;43m.\u001B[39;49m\u001B[43mcreate_dataset\u001B[49m\u001B[43m(\u001B[49m\u001B[43mpath_to_files\u001B[49m\u001B[38;5;241;43m=\u001B[39;49m\u001B[38;5;124;43m'\u001B[39;49m\u001B[38;5;124;43mC:\u001B[39;49m\u001B[38;5;130;43;01m\\\\\u001B[39;49;00m\u001B[38;5;124;43mUsers\u001B[39;49m\u001B[38;5;130;43;01m\\\\\u001B[39;49;00m\u001B[38;5;124;43mMariana\u001B[39;49m\u001B[38;5;130;43;01m\\\\\u001B[39;49;00m\u001B[38;5;124;43mOneDrive - Universidade de Lisboa\u001B[39;49m\u001B[38;5;130;43;01m\\\\\u001B[39;49;00m\u001B[38;5;124;43mG5\u001B[39;49m\u001B[38;5;130;43;01m\\\\\u001B[39;49;00m\u001B[38;5;124;43mdata\u001B[39;49m\u001B[38;5;124;43m'\u001B[39;49m\u001B[43m,\u001B[49m\u001B[43m \u001B[49m\u001B[43mstr_files\u001B[49m\u001B[38;5;241;43m=\u001B[39;49m\u001B[38;5;124;43m'\u001B[39;49m\u001B[38;5;124;43mlevel2_features\u001B[39;49m\u001B[38;5;124;43m'\u001B[39;49m\u001B[43m)\u001B[49m\n\u001B[0;32m      2\u001B[0m X \u001B[38;5;241m=\u001B[39m np\u001B[38;5;241m.\u001B[39marray(\u001B[38;5;28mlist\u001B[39m(X_dict\u001B[38;5;241m.\u001B[39mvalues()))\n\u001B[0;32m      3\u001B[0m y \u001B[38;5;241m=\u001B[39m np\u001B[38;5;241m.\u001B[39marray(\u001B[38;5;28mlist\u001B[39m(y_dict\u001B[38;5;241m.\u001B[39mvalues()))\n",
      "File \u001B[1;32m~\\OneDrive - Universidade de Lisboa\\G5\\code\\epilepsy-2022\\src\\dataset.py:40\u001B[0m, in \u001B[0;36mcreate_dataset\u001B[1;34m(path_to_files, str_files, list_features)\u001B[0m\n\u001B[0;32m     37\u001B[0m \u001B[38;5;28;01mfor\u001B[39;00m label \u001B[38;5;129;01min\u001B[39;00m labels:\n\u001B[0;32m     38\u001B[0m     label_feats \u001B[38;5;241m=\u001B[39m data\u001B[38;5;241m.\u001B[39mloc[data[\u001B[38;5;124m'\u001B[39m\u001B[38;5;124mlabel\u001B[39m\u001B[38;5;124m'\u001B[39m] \u001B[38;5;241m==\u001B[39m label]\n\u001B[1;32m---> 40\u001B[0m     one_segment_feats \u001B[38;5;241m=\u001B[39m np\u001B[38;5;241m.\u001B[39mhstack(\u001B[43mlabel_feats\u001B[49m\u001B[43m[\u001B[49m\u001B[43mstats_feats\u001B[49m\u001B[43m]\u001B[49m\u001B[38;5;241m.\u001B[39mvalues)\n\u001B[0;32m     41\u001B[0m     table_all_feats \u001B[38;5;241m=\u001B[39m pd\u001B[38;5;241m.\u001B[39mconcat((table_all_feats, pd\u001B[38;5;241m.\u001B[39mDataFrame([one_segment_feats], columns\u001B[38;5;241m=\u001B[39mall_feats_names)),\n\u001B[0;32m     42\u001B[0m                                 ignore_index\u001B[38;5;241m=\u001B[39m\u001B[38;5;28;01mTrue\u001B[39;00m)\n\u001B[0;32m     44\u001B[0m     \u001B[38;5;66;03m# feat_list =\u001B[39;00m\n",
      "File \u001B[1;32m~\\PycharmProjects\\Workshops\\venv\\lib\\site-packages\\pandas\\core\\frame.py:3511\u001B[0m, in \u001B[0;36mDataFrame.__getitem__\u001B[1;34m(self, key)\u001B[0m\n\u001B[0;32m   3509\u001B[0m     \u001B[38;5;28;01mif\u001B[39;00m is_iterator(key):\n\u001B[0;32m   3510\u001B[0m         key \u001B[38;5;241m=\u001B[39m \u001B[38;5;28mlist\u001B[39m(key)\n\u001B[1;32m-> 3511\u001B[0m     indexer \u001B[38;5;241m=\u001B[39m \u001B[38;5;28;43mself\u001B[39;49m\u001B[38;5;241;43m.\u001B[39;49m\u001B[43mcolumns\u001B[49m\u001B[38;5;241;43m.\u001B[39;49m\u001B[43m_get_indexer_strict\u001B[49m\u001B[43m(\u001B[49m\u001B[43mkey\u001B[49m\u001B[43m,\u001B[49m\u001B[43m \u001B[49m\u001B[38;5;124;43m\"\u001B[39;49m\u001B[38;5;124;43mcolumns\u001B[39;49m\u001B[38;5;124;43m\"\u001B[39;49m\u001B[43m)\u001B[49m[\u001B[38;5;241m1\u001B[39m]\n\u001B[0;32m   3513\u001B[0m \u001B[38;5;66;03m# take() does not accept boolean indexers\u001B[39;00m\n\u001B[0;32m   3514\u001B[0m \u001B[38;5;28;01mif\u001B[39;00m \u001B[38;5;28mgetattr\u001B[39m(indexer, \u001B[38;5;124m\"\u001B[39m\u001B[38;5;124mdtype\u001B[39m\u001B[38;5;124m\"\u001B[39m, \u001B[38;5;28;01mNone\u001B[39;00m) \u001B[38;5;241m==\u001B[39m \u001B[38;5;28mbool\u001B[39m:\n",
      "File \u001B[1;32m~\\PycharmProjects\\Workshops\\venv\\lib\\site-packages\\pandas\\core\\indexes\\base.py:5782\u001B[0m, in \u001B[0;36mIndex._get_indexer_strict\u001B[1;34m(self, key, axis_name)\u001B[0m\n\u001B[0;32m   5779\u001B[0m \u001B[38;5;28;01melse\u001B[39;00m:\n\u001B[0;32m   5780\u001B[0m     keyarr, indexer, new_indexer \u001B[38;5;241m=\u001B[39m \u001B[38;5;28mself\u001B[39m\u001B[38;5;241m.\u001B[39m_reindex_non_unique(keyarr)\n\u001B[1;32m-> 5782\u001B[0m \u001B[38;5;28;43mself\u001B[39;49m\u001B[38;5;241;43m.\u001B[39;49m\u001B[43m_raise_if_missing\u001B[49m\u001B[43m(\u001B[49m\u001B[43mkeyarr\u001B[49m\u001B[43m,\u001B[49m\u001B[43m \u001B[49m\u001B[43mindexer\u001B[49m\u001B[43m,\u001B[49m\u001B[43m \u001B[49m\u001B[43maxis_name\u001B[49m\u001B[43m)\u001B[49m\n\u001B[0;32m   5784\u001B[0m keyarr \u001B[38;5;241m=\u001B[39m \u001B[38;5;28mself\u001B[39m\u001B[38;5;241m.\u001B[39mtake(indexer)\n\u001B[0;32m   5785\u001B[0m \u001B[38;5;28;01mif\u001B[39;00m \u001B[38;5;28misinstance\u001B[39m(key, Index):\n\u001B[0;32m   5786\u001B[0m     \u001B[38;5;66;03m# GH 42790 - Preserve name from an Index\u001B[39;00m\n",
      "File \u001B[1;32m~\\PycharmProjects\\Workshops\\venv\\lib\\site-packages\\pandas\\core\\indexes\\base.py:5842\u001B[0m, in \u001B[0;36mIndex._raise_if_missing\u001B[1;34m(self, key, indexer, axis_name)\u001B[0m\n\u001B[0;32m   5840\u001B[0m     \u001B[38;5;28;01mif\u001B[39;00m use_interval_msg:\n\u001B[0;32m   5841\u001B[0m         key \u001B[38;5;241m=\u001B[39m \u001B[38;5;28mlist\u001B[39m(key)\n\u001B[1;32m-> 5842\u001B[0m     \u001B[38;5;28;01mraise\u001B[39;00m \u001B[38;5;167;01mKeyError\u001B[39;00m(\u001B[38;5;124mf\u001B[39m\u001B[38;5;124m\"\u001B[39m\u001B[38;5;124mNone of [\u001B[39m\u001B[38;5;132;01m{\u001B[39;00mkey\u001B[38;5;132;01m}\u001B[39;00m\u001B[38;5;124m] are in the [\u001B[39m\u001B[38;5;132;01m{\u001B[39;00maxis_name\u001B[38;5;132;01m}\u001B[39;00m\u001B[38;5;124m]\u001B[39m\u001B[38;5;124m\"\u001B[39m)\n\u001B[0;32m   5844\u001B[0m not_found \u001B[38;5;241m=\u001B[39m \u001B[38;5;28mlist\u001B[39m(ensure_index(key)[missing_mask\u001B[38;5;241m.\u001B[39mnonzero()[\u001B[38;5;241m0\u001B[39m]]\u001B[38;5;241m.\u001B[39munique())\n\u001B[0;32m   5845\u001B[0m \u001B[38;5;28;01mraise\u001B[39;00m \u001B[38;5;167;01mKeyError\u001B[39;00m(\u001B[38;5;124mf\u001B[39m\u001B[38;5;124m\"\u001B[39m\u001B[38;5;132;01m{\u001B[39;00mnot_found\u001B[38;5;132;01m}\u001B[39;00m\u001B[38;5;124m not in index\u001B[39m\u001B[38;5;124m\"\u001B[39m)\n",
      "\u001B[1;31mKeyError\u001B[0m: \"None of [Index(['min', 'minmax', 'deriv', 'trend_ratio', 'trend_diff', 'skewness'], dtype='object')] are in the [columns]\""
     ]
    }
   ],
   "source": [
    "X_dict, y_dict, list_features = dataset.create_dataset(path_to_files='C:\\\\Users\\\\Mariana\\\\OneDrive - Universidade de Lisboa\\\\G5\\\\data', str_files='level2_features')\n",
    "X = np.array(list(X_dict.values()))\n",
    "y = np.array(list(y_dict.values()))"
   ],
   "metadata": {
    "collapsed": false,
    "pycharm": {
     "name": "#%%\n"
    }
   }
  },
  {
   "cell_type": "code",
   "execution_count": 4,
   "outputs": [
    {
     "data": {
      "text/plain": "       minmax     deriv  skewness  trend_ratio  trend_diff       label  len  \\\n0    2.628425  0.029868 -0.231039    -3.628228    0.664344    seizure0  102   \n1    3.063730  0.074725  1.998708     1.006773   -0.002686    seizure0  102   \n2    3.066483  0.074792  1.999526     1.011036   -0.004362    seizure0  102   \n3    2.769713  0.067554  1.207107     0.235084    0.365098    seizure0  102   \n4    3.630942  0.088560  2.727139     1.203022   -0.048978    seizure0  102   \n..        ...       ...       ...          ...         ...         ...  ...   \n205  3.279412  0.156162  2.257034     2.182081   -0.285781  seizure774  102   \n206  3.188579  0.159429  2.422593     0.972139    0.010020  seizure774  102   \n207  2.729625  0.129982  0.735807   -18.157710   -0.810891  seizure774  102   \n208  3.602255  0.040935  0.218928    -0.569698    1.032337  seizure774  102   \n209  3.550300  0.040344  0.952396    -1.189086   -0.935383  seizure774  102   \n\n       feature  \n0       hr_min  \n1       hr_max  \n2    hr_minmax  \n3       hr_avg  \n4       hr_med  \n..         ...  \n205          s  \n206        sd1  \n207        sd2  \n208       sd12  \n209       sd21  \n\n[210 rows x 8 columns]",
      "text/html": "<div>\n<style scoped>\n    .dataframe tbody tr th:only-of-type {\n        vertical-align: middle;\n    }\n\n    .dataframe tbody tr th {\n        vertical-align: top;\n    }\n\n    .dataframe thead th {\n        text-align: right;\n    }\n</style>\n<table border=\"1\" class=\"dataframe\">\n  <thead>\n    <tr style=\"text-align: right;\">\n      <th></th>\n      <th>minmax</th>\n      <th>deriv</th>\n      <th>skewness</th>\n      <th>trend_ratio</th>\n      <th>trend_diff</th>\n      <th>label</th>\n      <th>len</th>\n      <th>feature</th>\n    </tr>\n  </thead>\n  <tbody>\n    <tr>\n      <th>0</th>\n      <td>2.628425</td>\n      <td>0.029868</td>\n      <td>-0.231039</td>\n      <td>-3.628228</td>\n      <td>0.664344</td>\n      <td>seizure0</td>\n      <td>102</td>\n      <td>hr_min</td>\n    </tr>\n    <tr>\n      <th>1</th>\n      <td>3.063730</td>\n      <td>0.074725</td>\n      <td>1.998708</td>\n      <td>1.006773</td>\n      <td>-0.002686</td>\n      <td>seizure0</td>\n      <td>102</td>\n      <td>hr_max</td>\n    </tr>\n    <tr>\n      <th>2</th>\n      <td>3.066483</td>\n      <td>0.074792</td>\n      <td>1.999526</td>\n      <td>1.011036</td>\n      <td>-0.004362</td>\n      <td>seizure0</td>\n      <td>102</td>\n      <td>hr_minmax</td>\n    </tr>\n    <tr>\n      <th>3</th>\n      <td>2.769713</td>\n      <td>0.067554</td>\n      <td>1.207107</td>\n      <td>0.235084</td>\n      <td>0.365098</td>\n      <td>seizure0</td>\n      <td>102</td>\n      <td>hr_avg</td>\n    </tr>\n    <tr>\n      <th>4</th>\n      <td>3.630942</td>\n      <td>0.088560</td>\n      <td>2.727139</td>\n      <td>1.203022</td>\n      <td>-0.048978</td>\n      <td>seizure0</td>\n      <td>102</td>\n      <td>hr_med</td>\n    </tr>\n    <tr>\n      <th>...</th>\n      <td>...</td>\n      <td>...</td>\n      <td>...</td>\n      <td>...</td>\n      <td>...</td>\n      <td>...</td>\n      <td>...</td>\n      <td>...</td>\n    </tr>\n    <tr>\n      <th>205</th>\n      <td>3.279412</td>\n      <td>0.156162</td>\n      <td>2.257034</td>\n      <td>2.182081</td>\n      <td>-0.285781</td>\n      <td>seizure774</td>\n      <td>102</td>\n      <td>s</td>\n    </tr>\n    <tr>\n      <th>206</th>\n      <td>3.188579</td>\n      <td>0.159429</td>\n      <td>2.422593</td>\n      <td>0.972139</td>\n      <td>0.010020</td>\n      <td>seizure774</td>\n      <td>102</td>\n      <td>sd1</td>\n    </tr>\n    <tr>\n      <th>207</th>\n      <td>2.729625</td>\n      <td>0.129982</td>\n      <td>0.735807</td>\n      <td>-18.157710</td>\n      <td>-0.810891</td>\n      <td>seizure774</td>\n      <td>102</td>\n      <td>sd2</td>\n    </tr>\n    <tr>\n      <th>208</th>\n      <td>3.602255</td>\n      <td>0.040935</td>\n      <td>0.218928</td>\n      <td>-0.569698</td>\n      <td>1.032337</td>\n      <td>seizure774</td>\n      <td>102</td>\n      <td>sd12</td>\n    </tr>\n    <tr>\n      <th>209</th>\n      <td>3.550300</td>\n      <td>0.040344</td>\n      <td>0.952396</td>\n      <td>-1.189086</td>\n      <td>-0.935383</td>\n      <td>seizure774</td>\n      <td>102</td>\n      <td>sd21</td>\n    </tr>\n  </tbody>\n</table>\n<p>210 rows × 8 columns</p>\n</div>"
     },
     "execution_count": 4,
     "metadata": {},
     "output_type": "execute_result"
    }
   ],
   "source": [
    "pd.read_parquet('C:\\\\Users\\\\Mariana\\\\OneDrive - Universidade de Lisboa\\\\G5\\\\data\\\\level2_features_p413_seizure.parquet')"
   ],
   "metadata": {
    "collapsed": false,
    "pycharm": {
     "name": "#%%\n"
    }
   }
  },
  {
   "cell_type": "code",
   "execution_count": 5,
   "outputs": [
    {
     "ename": "NameError",
     "evalue": "name 'list_features' is not defined",
     "output_type": "error",
     "traceback": [
      "\u001B[1;31m---------------------------------------------------------------------------\u001B[0m",
      "\u001B[1;31mNameError\u001B[0m                                 Traceback (most recent call last)",
      "Cell \u001B[1;32mIn [5], line 9\u001B[0m\n\u001B[0;32m      6\u001B[0m lpo \u001B[38;5;241m=\u001B[39m LeavePOut(p\u001B[38;5;241m=\u001B[39m\u001B[38;5;241m1\u001B[39m)\n\u001B[0;32m      8\u001B[0m selected_features \u001B[38;5;241m=\u001B[39m [\u001B[38;5;124m'\u001B[39m\u001B[38;5;124mmeanrr-min\u001B[39m\u001B[38;5;124m'\u001B[39m, \u001B[38;5;124m'\u001B[39m\u001B[38;5;124mmeanrr-trend_ratio\u001B[39m\u001B[38;5;124m'\u001B[39m]\n\u001B[1;32m----> 9\u001B[0m selected_features_idx \u001B[38;5;241m=\u001B[39m [idx \u001B[38;5;28;01mfor\u001B[39;00m idx, feature \u001B[38;5;129;01min\u001B[39;00m \u001B[38;5;28menumerate\u001B[39m(\u001B[43mlist_features\u001B[49m) \u001B[38;5;28;01mif\u001B[39;00m feature \u001B[38;5;129;01min\u001B[39;00m selected_features]\n\u001B[0;32m     10\u001B[0m \u001B[38;5;28mprint\u001B[39m(selected_features_idx)\n\u001B[0;32m     12\u001B[0m \u001B[38;5;28;01mdef\u001B[39;00m \u001B[38;5;21mkfold_eval\u001B[39m(selected_features_idx):\n",
      "\u001B[1;31mNameError\u001B[0m: name 'list_features' is not defined"
     ]
    }
   ],
   "source": [
    "# datasets leave 2 patients out\n",
    "from sklearn.model_selection import LeavePOut\n",
    "from sklearn.naive_bayes import GaussianNB\n",
    "from sklearn.metrics import classification_report\n",
    "\n",
    "lpo = LeavePOut(p=1)\n",
    "\n",
    "selected_features = ['meanrr-min', 'meanrr-trend_ratio']\n",
    "selected_features_idx = [idx for idx, feature in enumerate(list_features) if feature in selected_features]\n",
    "print(selected_features_idx)\n",
    "\n",
    "def kfold_eval(selected_features_idx):\n",
    "    for train_idx, test_idx in lpo.split(X):\n",
    "        print(np.array(list(X_dict.keys()))[test_idx])\n",
    "        X_train, X_test = np.vstack(X[train_idx])[:, selected_features_idx], np.vstack(X[test_idx])[:, selected_features_idx]\n",
    "        y_train, y_test = np.hstack(y[train_idx]), np.hstack(y[test_idx])\n",
    "        gnb = GaussianNB()\n",
    "        y_pred = gnb.fit(X_train, y_train).predict(X_test)\n",
    "        cr = classification_report(y_pred, y_test)\n",
    "        print(cr)\n",
    "    return cr\n",
    "\n",
    "cr = kfold_eval(selected_features_idx)\n",
    "\n",
    "\n"
   ],
   "metadata": {
    "collapsed": false,
    "pycharm": {
     "name": "#%%\n"
    }
   }
  },
  {
   "cell_type": "code",
   "execution_count": null,
   "outputs": [],
   "source": [],
   "metadata": {
    "collapsed": false,
    "pycharm": {
     "name": "#%%\n"
    }
   }
  }
 ],
 "metadata": {
  "kernelspec": {
   "display_name": "Python 3",
   "language": "python",
   "name": "python3"
  },
  "language_info": {
   "codemirror_mode": {
    "name": "ipython",
    "version": 2
   },
   "file_extension": ".py",
   "mimetype": "text/x-python",
   "name": "python",
   "nbconvert_exporter": "python",
   "pygments_lexer": "ipython2",
   "version": "2.7.6"
  }
 },
 "nbformat": 4,
 "nbformat_minor": 0
}