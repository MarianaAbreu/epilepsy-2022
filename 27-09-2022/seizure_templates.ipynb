{
 "cells": [
  {
   "cell_type": "markdown",
   "source": [
    "## 1. Get seizure templates based on other subjects to assess if seizures and baselines are alike"
   ],
   "metadata": {
    "collapsed": false,
    "pycharm": {
     "name": "#%% md\n"
    }
   }
  },
  {
   "cell_type": "code",
   "execution_count": null,
   "outputs": [],
   "source": [
    "import pandas as pd\n",
    "import seaborn as sns\n",
    "import matplotlib.pyplot as plt\n",
    "\n",
    "from src import distance_utils as du\n",
    "from src import level2_features as lf\n",
    "\n",
    "patient_test = '413'\n",
    "\n",
    "patient_train = ['400', '358', '352', '326', '365', '400', '413', '386']\n",
    "\n",
    "list_features = ['meanrr', 'rmssd', 'nn50', 'pnn50', 'sdnn', 'hti', 'tinn', 'vlf_pwr', 'vlf_peak', 'vlf_rpwr', 'lf_pwr',\n",
    "                 'lf_peak', 'lf_rpwr', 'lfnupwr', 'hf_pwr', 'hf_peak', 'hf_rpwr', 'hfnupwr', 'vhf_pwr', 'vhf_peak',\n",
    "                 'vhf_rpwr', 'lf_hf', 's', 'sd1', 'sd2', 'sd12', 'sd21', 'hrmin', 'hrmax', 'hrminmax', 'hravg']\n",
    "\n",
    "distances=['pearsonr', 'euclidean', 'cosine', 'chebyshev', 'braycurtis',\n",
    "                                              'canberra', 'correlation', 'cityblock']"
   ],
   "metadata": {
    "collapsed": false,
    "pycharm": {
     "name": "#%%\n"
    }
   }
  },
  {
   "cell_type": "code",
   "execution_count": null,
   "outputs": [],
   "source": [
    "pat1_level2features = pd.DataFrame()\n",
    "i=0\n",
    "for pat1 in patient_train:\n",
    "\n",
    "    pat1_seizures = pd.read_parquet(f'..\\data\\clean_features_p{pat1}_seizure.parquet')\n",
    "    pat1_seizures['range'] = pat1_seizures['time2sz']//39.\n",
    "\n",
    "    i+=1\n",
    "    for seizure in sorted(set(pat1_seizures['label'])):\n",
    "        seiz_table = pat1_seizures.loc[pat1_seizures['label']==seizure]\n",
    "        for feat in list_features:\n",
    "            statistics = lf.statistics_(seiz_table[feat].values)\n",
    "            statistics['label'] = seizure\n",
    "            statistics['len'] = len(seiz_table)\n",
    "            statistics['feature'] = feat\n",
    "            pat1_level2features = pd.concat((pat1_level2features, pd.DataFrame(statistics, index=[0])), ignore_index=True)\n",
    "    pat1_level2features.to_parquet(f'..\\data\\level2_features_p{pat1}_seizure.parquet')\n"
   ],
   "metadata": {
    "collapsed": false,
    "pycharm": {
     "name": "#%%\n"
    }
   }
  },
  {
   "cell_type": "code",
   "execution_count": null,
   "outputs": [],
   "source": [
    "pat1 = '413'\n",
    "pat1_seizures = pd.read_parquet(f'..\\data\\level2_features_p{pat1}_seizure.parquet')"
   ],
   "metadata": {
    "collapsed": false,
    "pycharm": {
     "name": "#%%\n"
    }
   }
  },
  {
   "cell_type": "code",
   "execution_count": null,
   "outputs": [],
   "source": [
    "pat1_seizures.loc[pat1_seizures['feature'] == 'meanrr']"
   ],
   "metadata": {
    "collapsed": false,
    "pycharm": {
     "name": "#%%\n"
    }
   }
  },
  {
   "cell_type": "code",
   "execution_count": null,
   "outputs": [],
   "source": [
    "import seaborn as sns\n",
    "for feat in list_features:\n",
    "    for pat in patient_train:\n",
    "        pat_seizures = pd.read_parquet(f'..\\data\\clean_features_p{pat}_seizure.parquet')\n",
    "        plt.figure()\n",
    "        sns.lineplot(data = pat_seizures, x = 'time2sz', y = feat, label=feat)\n",
    "        plt.legend()\n",
    "        plt.show()"
   ],
   "metadata": {
    "collapsed": false,
    "pycharm": {
     "name": "#%%\n"
    }
   }
  }
 ],
 "metadata": {
  "kernelspec": {
   "display_name": "Python 3",
   "language": "python",
   "name": "python3"
  },
  "language_info": {
   "codemirror_mode": {
    "name": "ipython",
    "version": 2
   },
   "file_extension": ".py",
   "mimetype": "text/x-python",
   "name": "python",
   "nbconvert_exporter": "python",
   "pygments_lexer": "ipython2",
   "version": "2.7.6"
  }
 },
 "nbformat": 4,
 "nbformat_minor": 0
}